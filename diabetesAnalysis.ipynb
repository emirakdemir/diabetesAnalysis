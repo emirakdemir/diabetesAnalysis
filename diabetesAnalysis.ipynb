{
 "cells": [
  {
   "cell_type": "markdown",
   "id": "d6d1c213",
   "metadata": {},
   "source": [
    "# DIABETES FEATURE ENGINEERING "
   ]
  },
  {
   "cell_type": "markdown",
   "id": "ad371b67",
   "metadata": {},
   "source": [
    "• Problem: Özellikleri belirtildiğinde kişilerin diyabet hastası olup olmadıklarını tahmin edebilecek bir makine öğrenmesi modeli geliştirilmesi istenmektedir. Modeli geliştirmeden önce gerekli olan veri analizi ve özellik mühendisliği adımlarını gerçekleştirmeniz beklenmektedir."
   ]
  },
  {
   "cell_type": "markdown",
   "id": "369897f0",
   "metadata": {},
   "source": [
    "• Veri seti ABD'deki Ulusal Diyabet-Sindirim-Böbrek Hastalıkları Enstitüleri'nde tutulan büyük veri setininnparçasıdır. ABD'deki Arizona Eyaleti'nin en büyük 5. şehri olan Phoenix şehrinde yaşayan 21 yaş ve üzerinde olan Pima Indian kadınları üzerinde yapılan diyabet araştırması için kullanılan verilerdir. 768 gözlem ve 8 sayısal bağımsız değişkenden oluşmaktadır. Hedef değişken \"outcome\" olarak belirtilmiş olup; 1 diyabet test sonucunun pozitif oluşunu, 0 ise negatif oluşunu belirtmektedir.\n"
   ]
  },
  {
   "cell_type": "markdown",
   "id": "6d0d2be8",
   "metadata": {},
   "source": [
    "• Pregnancies: Hamilelik sayısı<br/>\n",
    "• Glucose: Glikoz<br/>\n",
    "• BloodPressure: Kan basıncı (Diastolic(Küçük Tansiyon))<br/>\n",
    "• SkinThickness: Cilt Kalınlığı<br/>\n",
    "• Insulin: İnsülin.<br/>\n",
    "• BMI: Beden kitle indeksi.<br/>\n",
    "• DiabetesPedigreeFunction: Soyumuzdaki kişilere göre diyabet olma ihtimalimizi hesaplayan bir fonksiyon.<br/>\n",
    "• Age: Yaş (yıl)<br/>\n",
    "• Outcome: Kişinin diyabet olup olmadığı bilgisi. Hastalığa sahip (1) ya da değil (0)<br/>\n"
   ]
  },
  {
   "cell_type": "markdown",
   "id": "8ee78234",
   "metadata": {},
   "source": [
    "# GÖREV 1: KEŞİFCİ VERİ ANALİZİ\n",
    "\n",
    "    • Adım 1: Genel resmi inceleyiniz.\n",
    "    • Adım 2: Numerik ve kategorik değişkenleri yakalayınız.\n",
    "    • Adım 3: Numerik ve kategorik değişkenlerin analizini yapınız.\n",
    "    • Adım 4: Hedef değişken analizi yapınız. (Kategorik değişkenlere göre hedef değişkenin ortalaması, hedef değişkene göre numerik değişkenlerin ortalaması)\n",
    "    • Adım 5: Aykırı gözlem analizi yapınız.\n",
    "    • Adım 6: Eksik gözlem analizi yapınız.\n",
    "    • Adım 7: Korelasyon analizi yapınız."
   ]
  },
  {
   "cell_type": "code",
   "execution_count": 1,
   "id": "975f370d",
   "metadata": {},
   "outputs": [],
   "source": [
    "import numpy as np\n",
    "import pandas as pd\n",
    "import seaborn as sns\n",
    "import matplotlib.pyplot as plt\n",
    "from sklearn.preprocessing import LabelEncoder\n",
    "from sklearn.preprocessing import StandardScaler\n",
    "from sklearn.ensemble import RandomForestClassifier\n",
    "from sklearn.model_selection import train_test_split\n",
    "from sklearn.metrics import accuracy_score, precision_score, recall_score, f1_score, roc_auc_score\n",
    "import warnings\n",
    "warnings.simplefilter(action=\"ignore\")"
   ]
  },
  {
   "cell_type": "code",
   "execution_count": 2,
   "id": "763cb94b",
   "metadata": {},
   "outputs": [],
   "source": [
    "pd.set_option('display.max_columns', None)\n",
    "pd.set_option('display.width', 170)\n",
    "pd.set_option('display.max_rows', 20)\n",
    "pd.set_option('display.float_format', lambda x: '%.3f' % x)"
   ]
  },
  {
   "cell_type": "code",
   "execution_count": 3,
   "id": "41102cb3",
   "metadata": {},
   "outputs": [],
   "source": [
    "df = pd.read_csv(\"diabetes.csv\")"
   ]
  },
  {
   "cell_type": "code",
   "execution_count": 4,
   "id": "e3512fea",
   "metadata": {},
   "outputs": [
    {
     "data": {
      "text/html": [
       "<div>\n",
       "<style scoped>\n",
       "    .dataframe tbody tr th:only-of-type {\n",
       "        vertical-align: middle;\n",
       "    }\n",
       "\n",
       "    .dataframe tbody tr th {\n",
       "        vertical-align: top;\n",
       "    }\n",
       "\n",
       "    .dataframe thead th {\n",
       "        text-align: right;\n",
       "    }\n",
       "</style>\n",
       "<table border=\"1\" class=\"dataframe\">\n",
       "  <thead>\n",
       "    <tr style=\"text-align: right;\">\n",
       "      <th></th>\n",
       "      <th>Pregnancies</th>\n",
       "      <th>Glucose</th>\n",
       "      <th>BloodPressure</th>\n",
       "      <th>SkinThickness</th>\n",
       "      <th>Insulin</th>\n",
       "      <th>BMI</th>\n",
       "      <th>DiabetesPedigreeFunction</th>\n",
       "      <th>Age</th>\n",
       "      <th>Outcome</th>\n",
       "    </tr>\n",
       "  </thead>\n",
       "  <tbody>\n",
       "    <tr>\n",
       "      <th>0</th>\n",
       "      <td>6</td>\n",
       "      <td>148</td>\n",
       "      <td>72</td>\n",
       "      <td>35</td>\n",
       "      <td>0</td>\n",
       "      <td>33.600</td>\n",
       "      <td>0.627</td>\n",
       "      <td>50</td>\n",
       "      <td>1</td>\n",
       "    </tr>\n",
       "    <tr>\n",
       "      <th>1</th>\n",
       "      <td>1</td>\n",
       "      <td>85</td>\n",
       "      <td>66</td>\n",
       "      <td>29</td>\n",
       "      <td>0</td>\n",
       "      <td>26.600</td>\n",
       "      <td>0.351</td>\n",
       "      <td>31</td>\n",
       "      <td>0</td>\n",
       "    </tr>\n",
       "    <tr>\n",
       "      <th>2</th>\n",
       "      <td>8</td>\n",
       "      <td>183</td>\n",
       "      <td>64</td>\n",
       "      <td>0</td>\n",
       "      <td>0</td>\n",
       "      <td>23.300</td>\n",
       "      <td>0.672</td>\n",
       "      <td>32</td>\n",
       "      <td>1</td>\n",
       "    </tr>\n",
       "    <tr>\n",
       "      <th>3</th>\n",
       "      <td>1</td>\n",
       "      <td>89</td>\n",
       "      <td>66</td>\n",
       "      <td>23</td>\n",
       "      <td>94</td>\n",
       "      <td>28.100</td>\n",
       "      <td>0.167</td>\n",
       "      <td>21</td>\n",
       "      <td>0</td>\n",
       "    </tr>\n",
       "    <tr>\n",
       "      <th>4</th>\n",
       "      <td>0</td>\n",
       "      <td>137</td>\n",
       "      <td>40</td>\n",
       "      <td>35</td>\n",
       "      <td>168</td>\n",
       "      <td>43.100</td>\n",
       "      <td>2.288</td>\n",
       "      <td>33</td>\n",
       "      <td>1</td>\n",
       "    </tr>\n",
       "    <tr>\n",
       "      <th>5</th>\n",
       "      <td>5</td>\n",
       "      <td>116</td>\n",
       "      <td>74</td>\n",
       "      <td>0</td>\n",
       "      <td>0</td>\n",
       "      <td>25.600</td>\n",
       "      <td>0.201</td>\n",
       "      <td>30</td>\n",
       "      <td>0</td>\n",
       "    </tr>\n",
       "  </tbody>\n",
       "</table>\n",
       "</div>"
      ],
      "text/plain": [
       "   Pregnancies  Glucose  BloodPressure  SkinThickness  Insulin    BMI  DiabetesPedigreeFunction  Age  Outcome\n",
       "0            6      148             72             35        0 33.600                     0.627   50        1\n",
       "1            1       85             66             29        0 26.600                     0.351   31        0\n",
       "2            8      183             64              0        0 23.300                     0.672   32        1\n",
       "3            1       89             66             23       94 28.100                     0.167   21        0\n",
       "4            0      137             40             35      168 43.100                     2.288   33        1\n",
       "5            5      116             74              0        0 25.600                     0.201   30        0"
      ]
     },
     "execution_count": 4,
     "metadata": {},
     "output_type": "execute_result"
    }
   ],
   "source": [
    "df.head(6)"
   ]
  },
  {
   "cell_type": "code",
   "execution_count": 5,
   "id": "ead8eb14",
   "metadata": {},
   "outputs": [
    {
     "data": {
      "text/plain": [
       "(768, 9)"
      ]
     },
     "execution_count": 5,
     "metadata": {},
     "output_type": "execute_result"
    }
   ],
   "source": [
    "df.shape"
   ]
  },
  {
   "cell_type": "code",
   "execution_count": 6,
   "id": "b65a5d6e",
   "metadata": {},
   "outputs": [
    {
     "data": {
      "text/plain": [
       "Pregnancies                   int64\n",
       "Glucose                       int64\n",
       "BloodPressure                 int64\n",
       "SkinThickness                 int64\n",
       "Insulin                       int64\n",
       "BMI                         float64\n",
       "DiabetesPedigreeFunction    float64\n",
       "Age                           int64\n",
       "Outcome                       int64\n",
       "dtype: object"
      ]
     },
     "execution_count": 6,
     "metadata": {},
     "output_type": "execute_result"
    }
   ],
   "source": [
    "df.dtypes"
   ]
  },
  {
   "cell_type": "code",
   "execution_count": 7,
   "id": "16f4a844",
   "metadata": {},
   "outputs": [
    {
     "name": "stdout",
     "output_type": "stream",
     "text": [
      "<class 'pandas.core.frame.DataFrame'>\n",
      "RangeIndex: 768 entries, 0 to 767\n",
      "Data columns (total 9 columns):\n",
      " #   Column                    Non-Null Count  Dtype  \n",
      "---  ------                    --------------  -----  \n",
      " 0   Pregnancies               768 non-null    int64  \n",
      " 1   Glucose                   768 non-null    int64  \n",
      " 2   BloodPressure             768 non-null    int64  \n",
      " 3   SkinThickness             768 non-null    int64  \n",
      " 4   Insulin                   768 non-null    int64  \n",
      " 5   BMI                       768 non-null    float64\n",
      " 6   DiabetesPedigreeFunction  768 non-null    float64\n",
      " 7   Age                       768 non-null    int64  \n",
      " 8   Outcome                   768 non-null    int64  \n",
      "dtypes: float64(2), int64(7)\n",
      "memory usage: 54.1 KB\n"
     ]
    }
   ],
   "source": [
    "df.info()"
   ]
  },
  {
   "cell_type": "code",
   "execution_count": 8,
   "id": "00570e7d",
   "metadata": {},
   "outputs": [
    {
     "data": {
      "text/html": [
       "<div>\n",
       "<style scoped>\n",
       "    .dataframe tbody tr th:only-of-type {\n",
       "        vertical-align: middle;\n",
       "    }\n",
       "\n",
       "    .dataframe tbody tr th {\n",
       "        vertical-align: top;\n",
       "    }\n",
       "\n",
       "    .dataframe thead th {\n",
       "        text-align: right;\n",
       "    }\n",
       "</style>\n",
       "<table border=\"1\" class=\"dataframe\">\n",
       "  <thead>\n",
       "    <tr style=\"text-align: right;\">\n",
       "      <th></th>\n",
       "      <th>0.000</th>\n",
       "      <th>0.050</th>\n",
       "      <th>0.500</th>\n",
       "      <th>0.950</th>\n",
       "      <th>0.990</th>\n",
       "      <th>1.000</th>\n",
       "    </tr>\n",
       "  </thead>\n",
       "  <tbody>\n",
       "    <tr>\n",
       "      <th>Pregnancies</th>\n",
       "      <td>0.000</td>\n",
       "      <td>0.000</td>\n",
       "      <td>3.000</td>\n",
       "      <td>10.000</td>\n",
       "      <td>13.000</td>\n",
       "      <td>17.000</td>\n",
       "    </tr>\n",
       "    <tr>\n",
       "      <th>Glucose</th>\n",
       "      <td>0.000</td>\n",
       "      <td>79.000</td>\n",
       "      <td>117.000</td>\n",
       "      <td>181.000</td>\n",
       "      <td>196.000</td>\n",
       "      <td>199.000</td>\n",
       "    </tr>\n",
       "    <tr>\n",
       "      <th>BloodPressure</th>\n",
       "      <td>0.000</td>\n",
       "      <td>38.700</td>\n",
       "      <td>72.000</td>\n",
       "      <td>90.000</td>\n",
       "      <td>106.000</td>\n",
       "      <td>122.000</td>\n",
       "    </tr>\n",
       "    <tr>\n",
       "      <th>SkinThickness</th>\n",
       "      <td>0.000</td>\n",
       "      <td>0.000</td>\n",
       "      <td>23.000</td>\n",
       "      <td>44.000</td>\n",
       "      <td>51.330</td>\n",
       "      <td>99.000</td>\n",
       "    </tr>\n",
       "    <tr>\n",
       "      <th>Insulin</th>\n",
       "      <td>0.000</td>\n",
       "      <td>0.000</td>\n",
       "      <td>30.500</td>\n",
       "      <td>293.000</td>\n",
       "      <td>519.900</td>\n",
       "      <td>846.000</td>\n",
       "    </tr>\n",
       "    <tr>\n",
       "      <th>BMI</th>\n",
       "      <td>0.000</td>\n",
       "      <td>21.800</td>\n",
       "      <td>32.000</td>\n",
       "      <td>44.395</td>\n",
       "      <td>50.759</td>\n",
       "      <td>67.100</td>\n",
       "    </tr>\n",
       "    <tr>\n",
       "      <th>DiabetesPedigreeFunction</th>\n",
       "      <td>0.078</td>\n",
       "      <td>0.140</td>\n",
       "      <td>0.372</td>\n",
       "      <td>1.133</td>\n",
       "      <td>1.698</td>\n",
       "      <td>2.420</td>\n",
       "    </tr>\n",
       "    <tr>\n",
       "      <th>Age</th>\n",
       "      <td>21.000</td>\n",
       "      <td>21.000</td>\n",
       "      <td>29.000</td>\n",
       "      <td>58.000</td>\n",
       "      <td>67.000</td>\n",
       "      <td>81.000</td>\n",
       "    </tr>\n",
       "    <tr>\n",
       "      <th>Outcome</th>\n",
       "      <td>0.000</td>\n",
       "      <td>0.000</td>\n",
       "      <td>0.000</td>\n",
       "      <td>1.000</td>\n",
       "      <td>1.000</td>\n",
       "      <td>1.000</td>\n",
       "    </tr>\n",
       "  </tbody>\n",
       "</table>\n",
       "</div>"
      ],
      "text/plain": [
       "                          0.000  0.050   0.500   0.950   0.990   1.000\n",
       "Pregnancies               0.000  0.000   3.000  10.000  13.000  17.000\n",
       "Glucose                   0.000 79.000 117.000 181.000 196.000 199.000\n",
       "BloodPressure             0.000 38.700  72.000  90.000 106.000 122.000\n",
       "SkinThickness             0.000  0.000  23.000  44.000  51.330  99.000\n",
       "Insulin                   0.000  0.000  30.500 293.000 519.900 846.000\n",
       "BMI                       0.000 21.800  32.000  44.395  50.759  67.100\n",
       "DiabetesPedigreeFunction  0.078  0.140   0.372   1.133   1.698   2.420\n",
       "Age                      21.000 21.000  29.000  58.000  67.000  81.000\n",
       "Outcome                   0.000  0.000   0.000   1.000   1.000   1.000"
      ]
     },
     "execution_count": 8,
     "metadata": {},
     "output_type": "execute_result"
    }
   ],
   "source": [
    "df.quantile([0, 0.05, 0.50, 0.95, 0.99, 1]).T"
   ]
  },
  {
   "cell_type": "code",
   "execution_count": 9,
   "id": "9ed04087",
   "metadata": {},
   "outputs": [
    {
     "data": {
      "text/html": [
       "<div>\n",
       "<style scoped>\n",
       "    .dataframe tbody tr th:only-of-type {\n",
       "        vertical-align: middle;\n",
       "    }\n",
       "\n",
       "    .dataframe tbody tr th {\n",
       "        vertical-align: top;\n",
       "    }\n",
       "\n",
       "    .dataframe thead th {\n",
       "        text-align: right;\n",
       "    }\n",
       "</style>\n",
       "<table border=\"1\" class=\"dataframe\">\n",
       "  <thead>\n",
       "    <tr style=\"text-align: right;\">\n",
       "      <th></th>\n",
       "      <th>Pregnancies</th>\n",
       "      <th>Glucose</th>\n",
       "      <th>BloodPressure</th>\n",
       "      <th>SkinThickness</th>\n",
       "      <th>Insulin</th>\n",
       "      <th>BMI</th>\n",
       "      <th>DiabetesPedigreeFunction</th>\n",
       "      <th>Age</th>\n",
       "      <th>Outcome</th>\n",
       "    </tr>\n",
       "  </thead>\n",
       "  <tbody>\n",
       "    <tr>\n",
       "      <th>763</th>\n",
       "      <td>10</td>\n",
       "      <td>101</td>\n",
       "      <td>76</td>\n",
       "      <td>48</td>\n",
       "      <td>180</td>\n",
       "      <td>32.900</td>\n",
       "      <td>0.171</td>\n",
       "      <td>63</td>\n",
       "      <td>0</td>\n",
       "    </tr>\n",
       "    <tr>\n",
       "      <th>764</th>\n",
       "      <td>2</td>\n",
       "      <td>122</td>\n",
       "      <td>70</td>\n",
       "      <td>27</td>\n",
       "      <td>0</td>\n",
       "      <td>36.800</td>\n",
       "      <td>0.340</td>\n",
       "      <td>27</td>\n",
       "      <td>0</td>\n",
       "    </tr>\n",
       "    <tr>\n",
       "      <th>765</th>\n",
       "      <td>5</td>\n",
       "      <td>121</td>\n",
       "      <td>72</td>\n",
       "      <td>23</td>\n",
       "      <td>112</td>\n",
       "      <td>26.200</td>\n",
       "      <td>0.245</td>\n",
       "      <td>30</td>\n",
       "      <td>0</td>\n",
       "    </tr>\n",
       "    <tr>\n",
       "      <th>766</th>\n",
       "      <td>1</td>\n",
       "      <td>126</td>\n",
       "      <td>60</td>\n",
       "      <td>0</td>\n",
       "      <td>0</td>\n",
       "      <td>30.100</td>\n",
       "      <td>0.349</td>\n",
       "      <td>47</td>\n",
       "      <td>1</td>\n",
       "    </tr>\n",
       "    <tr>\n",
       "      <th>767</th>\n",
       "      <td>1</td>\n",
       "      <td>93</td>\n",
       "      <td>70</td>\n",
       "      <td>31</td>\n",
       "      <td>0</td>\n",
       "      <td>30.400</td>\n",
       "      <td>0.315</td>\n",
       "      <td>23</td>\n",
       "      <td>0</td>\n",
       "    </tr>\n",
       "  </tbody>\n",
       "</table>\n",
       "</div>"
      ],
      "text/plain": [
       "     Pregnancies  Glucose  BloodPressure  SkinThickness  Insulin    BMI  DiabetesPedigreeFunction  Age  Outcome\n",
       "763           10      101             76             48      180 32.900                     0.171   63        0\n",
       "764            2      122             70             27        0 36.800                     0.340   27        0\n",
       "765            5      121             72             23      112 26.200                     0.245   30        0\n",
       "766            1      126             60              0        0 30.100                     0.349   47        1\n",
       "767            1       93             70             31        0 30.400                     0.315   23        0"
      ]
     },
     "execution_count": 9,
     "metadata": {},
     "output_type": "execute_result"
    }
   ],
   "source": [
    "df.tail()"
   ]
  },
  {
   "cell_type": "code",
   "execution_count": 10,
   "id": "74eaf6a5",
   "metadata": {},
   "outputs": [
    {
     "data": {
      "text/plain": [
       "Pregnancies                 0\n",
       "Glucose                     0\n",
       "BloodPressure               0\n",
       "SkinThickness               0\n",
       "Insulin                     0\n",
       "BMI                         0\n",
       "DiabetesPedigreeFunction    0\n",
       "Age                         0\n",
       "Outcome                     0\n",
       "dtype: int64"
      ]
     },
     "execution_count": 10,
     "metadata": {},
     "output_type": "execute_result"
    }
   ],
   "source": [
    "df.isnull().sum()"
   ]
  },
  {
   "cell_type": "code",
   "execution_count": 11,
   "id": "ba8dfcda",
   "metadata": {},
   "outputs": [],
   "source": [
    "# Numerik ve kategorik değişkenleri yakalanması\n",
    "def grab_col_names(dataframe, cat_th=10, car_th=20):\n",
    "    cat_cols = [col for col in dataframe.columns if dataframe[col].dtypes == \"O\"]\n",
    "    num_but_cat = [col for col in dataframe.columns if\n",
    "                   dataframe[col].nunique() < cat_th and dataframe[col].dtypes != \"O\"]\n",
    "    cat_but_car = [col for col in dataframe.columns if\n",
    "                   dataframe[col].nunique() > car_th and dataframe[col].dtypes == \"O\"]\n",
    "    cat_cols = cat_cols + num_but_cat\n",
    "    cat_cols = [col for col in cat_cols if col not in cat_but_car]\n",
    "\n",
    "    # num_cols\n",
    "    num_cols = [col for col in dataframe.columns if dataframe[col].dtypes != \"O\"]\n",
    "    num_cols = [col for col in num_cols if col not in num_but_cat]\n",
    "\n",
    "    print(f\"Observations: {dataframe.shape[0]}\")\n",
    "    print(f\"Variables: {dataframe.shape[1]}\")\n",
    "    print(f'cat_cols: {len(cat_cols)}')\n",
    "    print(f'num_cols: {len(num_cols)}')\n",
    "    print(f'cat_but_car: {len(cat_but_car)}')\n",
    "    print(f'num_but_cat: {len(num_but_cat)}')\n",
    "\n",
    "    return cat_cols, num_cols, cat_but_car"
   ]
  },
  {
   "cell_type": "code",
   "execution_count": 12,
   "id": "1a09f5f6",
   "metadata": {},
   "outputs": [
    {
     "name": "stdout",
     "output_type": "stream",
     "text": [
      "Observations: 768\n",
      "Variables: 9\n",
      "cat_cols: 1\n",
      "num_cols: 8\n",
      "cat_but_car: 0\n",
      "num_but_cat: 1\n"
     ]
    }
   ],
   "source": [
    "cat_cols, num_cols, cat_but_car = grab_col_names(df)"
   ]
  },
  {
   "cell_type": "code",
   "execution_count": 13,
   "id": "821666a9",
   "metadata": {},
   "outputs": [
    {
     "data": {
      "text/plain": [
       "['Outcome']"
      ]
     },
     "execution_count": 13,
     "metadata": {},
     "output_type": "execute_result"
    }
   ],
   "source": [
    "cat_cols"
   ]
  },
  {
   "cell_type": "code",
   "execution_count": 14,
   "id": "84866ce6",
   "metadata": {},
   "outputs": [
    {
     "data": {
      "text/plain": [
       "['Pregnancies',\n",
       " 'Glucose',\n",
       " 'BloodPressure',\n",
       " 'SkinThickness',\n",
       " 'Insulin',\n",
       " 'BMI',\n",
       " 'DiabetesPedigreeFunction',\n",
       " 'Age']"
      ]
     },
     "execution_count": 14,
     "metadata": {},
     "output_type": "execute_result"
    }
   ],
   "source": [
    "num_cols"
   ]
  },
  {
   "cell_type": "code",
   "execution_count": 15,
   "id": "1045d988",
   "metadata": {},
   "outputs": [
    {
     "data": {
      "text/plain": [
       "[]"
      ]
     },
     "execution_count": 15,
     "metadata": {},
     "output_type": "execute_result"
    }
   ],
   "source": [
    "cat_but_car"
   ]
  },
  {
   "cell_type": "code",
   "execution_count": 16,
   "id": "a19eab1d",
   "metadata": {},
   "outputs": [
    {
     "name": "stdout",
     "output_type": "stream",
     "text": [
      "   Outcome  Ratio\n",
      "0      500 65.104\n",
      "1      268 34.896\n",
      "##########################################\n"
     ]
    }
   ],
   "source": [
    "# Kategorik değişkenlerin analizi.\n",
    "def cat_summary(dataframe, col_name, plot=False):\n",
    "    print(pd.DataFrame({col_name: dataframe[col_name].value_counts(),\n",
    "                        \"Ratio\": 100 * dataframe[col_name].value_counts() / len(dataframe)}))\n",
    "    print(\"##########################################\")\n",
    "    if plot:\n",
    "        sns.countplot(x=dataframe[col_name], data=dataframe)\n",
    "        plt.show()\n",
    "\n",
    "\n",
    "cat_summary(df, \"Outcome\")"
   ]
  },
  {
   "cell_type": "code",
   "execution_count": 17,
   "id": "2b5b0ed5",
   "metadata": {},
   "outputs": [
    {
     "name": "stdout",
     "output_type": "stream",
     "text": [
      "count   768.000\n",
      "mean      3.845\n",
      "std       3.370\n",
      "min       0.000\n",
      "5%        0.000\n",
      "10%       0.000\n",
      "20%       1.000\n",
      "30%       1.000\n",
      "40%       2.000\n",
      "50%       3.000\n",
      "60%       4.000\n",
      "70%       5.000\n",
      "80%       7.000\n",
      "90%       9.000\n",
      "95%      10.000\n",
      "99%      13.000\n",
      "max      17.000\n",
      "Name: Pregnancies, dtype: float64\n"
     ]
    },
    {
     "data": {
      "image/png": "[encoded data removed]",
      "text/plain": [
       "<Figure size 432x288 with 1 Axes>"
      ]
     },
     "metadata": {
      "needs_background": "light"
     },
     "output_type": "display_data"
    },
    {
     "name": "stdout",
     "output_type": "stream",
     "text": [
      "count   768.000\n",
      "mean    120.895\n",
      "std      31.973\n",
      "min       0.000\n",
      "5%       79.000\n",
      "10%      85.000\n",
      "20%      95.000\n",
      "30%     102.000\n",
      "40%     109.000\n",
      "50%     117.000\n",
      "60%     125.000\n",
      "70%     134.000\n",
      "80%     147.000\n",
      "90%     167.000\n",
      "95%     181.000\n",
      "99%     196.000\n",
      "max     199.000\n",
      "Name: Glucose, dtype: float64\n"
     ]
    },
    {
     "data": {
      "image/png": "[encoded data removed]",
      "text/plain": [
       "<Figure size 432x288 with 1 Axes>"
      ]
     },
     "metadata": {
      "needs_background": "light"
     },
     "output_type": "display_data"
    },
    {
     "name": "stdout",
     "output_type": "stream",
     "text": [
      "count   768.000\n",
      "mean     69.105\n",
      "std      19.356\n",
      "min       0.000\n",
      "5%       38.700\n",
      "10%      54.000\n",
      "20%      60.000\n",
      "30%      64.000\n",
      "40%      68.000\n",
      "50%      72.000\n",
      "60%      74.000\n",
      "70%      78.000\n",
      "80%      82.000\n",
      "90%      88.000\n",
      "95%      90.000\n",
      "99%     106.000\n",
      "max     122.000\n",
      "Name: BloodPressure, dtype: float64\n"
     ]
    },
    {
     "data": {
      "image/png": "[encoded data removed]",
      "text/plain": [
       "<Figure size 432x288 with 1 Axes>"
      ]
     },
     "metadata": {
      "needs_background": "light"
     },
     "output_type": "display_data"
    },
    {
     "name": "stdout",
     "output_type": "stream",
     "text": [
      "count   768.000\n",
      "mean     20.536\n",
      "std      15.952\n",
      "min       0.000\n",
      "5%        0.000\n",
      "10%       0.000\n",
      "20%       0.000\n",
      "30%       8.200\n",
      "40%      18.000\n",
      "50%      23.000\n",
      "60%      27.000\n",
      "70%      31.000\n",
      "80%      35.000\n",
      "90%      40.000\n",
      "95%      44.000\n",
      "99%      51.330\n",
      "max      99.000\n",
      "Name: SkinThickness, dtype: float64\n"
     ]
    },
    {
     "data": {
      "image/png": "[encoded data removed]",
      "text/plain": [
       "<Figure size 432x288 with 1 Axes>"
      ]
     },
     "metadata": {
      "needs_background": "light"
     },
     "output_type": "display_data"
    },
    {
     "name": "stdout",
     "output_type": "stream",
     "text": [
      "count   768.000\n",
      "mean     79.799\n",
      "std     115.244\n",
      "min       0.000\n",
      "5%        0.000\n",
      "10%       0.000\n",
      "20%       0.000\n",
      "30%       0.000\n",
      "40%       0.000\n",
      "50%      30.500\n",
      "60%      72.200\n",
      "70%     106.000\n",
      "80%     150.000\n",
      "90%     210.000\n",
      "95%     293.000\n",
      "99%     519.900\n",
      "max     846.000\n",
      "Name: Insulin, dtype: float64\n"
     ]
    },
    {
     "data": {
      "image/png": "[encoded data removed]",
      "text/plain": [
       "<Figure size 432x288 with 1 Axes>"
      ]
     },
     "metadata": {
      "needs_background": "light"
     },
     "output_type": "display_data"
    },
    {
     "name": "stdout",
     "output_type": "stream",
     "text": [
      "count   768.000\n",
      "mean     31.993\n",
      "std       7.884\n",
      "min       0.000\n",
      "5%       21.800\n",
      "10%      23.600\n",
      "20%      25.900\n",
      "30%      28.200\n",
      "40%      30.100\n",
      "50%      32.000\n",
      "60%      33.700\n",
      "70%      35.490\n",
      "80%      37.800\n",
      "90%      41.500\n",
      "95%      44.395\n",
      "99%      50.759\n",
      "max      67.100\n",
      "Name: BMI, dtype: float64\n"
     ]
    },
    {
     "data": {
      "image/png": "[encoded data removed]",
      "text/plain": [
       "<Figure size 432x288 with 1 Axes>"
      ]
     },
     "metadata": {
      "needs_background": "light"
     },
     "output_type": "display_data"
    },
    {
     "name": "stdout",
     "output_type": "stream",
     "text": [
      "count   768.000\n",
      "mean      0.472\n",
      "std       0.331\n",
      "min       0.078\n",
      "5%        0.140\n",
      "10%       0.165\n",
      "20%       0.219\n",
      "30%       0.259\n",
      "40%       0.303\n",
      "50%       0.372\n",
      "60%       0.454\n",
      "70%       0.564\n",
      "80%       0.687\n",
      "90%       0.879\n",
      "95%       1.133\n",
      "99%       1.698\n",
      "max       2.420\n",
      "Name: DiabetesPedigreeFunction, dtype: float64\n"
     ]
    },
    {
     "data": {
      "image/png": "[encoded data removed]",
      "text/plain": [
       "<Figure size 432x288 with 1 Axes>"
      ]
     },
     "metadata": {
      "needs_background": "light"
     },
     "output_type": "display_data"
    },
    {
     "name": "stdout",
     "output_type": "stream",
     "text": [
      "count   768.000\n",
      "mean     33.241\n",
      "std      11.760\n",
      "min      21.000\n",
      "5%       21.000\n",
      "10%      22.000\n",
      "20%      23.000\n",
      "30%      25.000\n",
      "40%      27.000\n",
      "50%      29.000\n",
      "60%      33.000\n",
      "70%      38.000\n",
      "80%      42.600\n",
      "90%      51.000\n",
      "95%      58.000\n",
      "99%      67.000\n",
      "max      81.000\n",
      "Name: Age, dtype: float64\n"
     ]
    },
    {
     "data": {
      "image/png": "[encoded data removed]",
      "text/plain": [
       "<Figure size 432x288 with 1 Axes>"
      ]
     },
     "metadata": {
      "needs_background": "light"
     },
     "output_type": "display_data"
    }
   ],
   "source": [
    "# Numerik değişkenlerin analizi.\n",
    "def num_summary(dataframe, numerical_col, plot=False):\n",
    "    quantiles = [0.05, 0.10, 0.20, 0.30, 0.40, 0.50, 0.60, 0.70, 0.80, 0.90, 0.95, 0.99]\n",
    "    print(dataframe[numerical_col].describe(quantiles).T)\n",
    "\n",
    "    if plot:\n",
    "        dataframe[numerical_col].hist(bins=20)\n",
    "        plt.xlabel(numerical_col)\n",
    "        plt.title(numerical_col)\n",
    "        plt.show()\n",
    "\n",
    "\n",
    "for col in num_cols:\n",
    "    num_summary(df, col, plot=True)"
   ]
  },
  {
   "cell_type": "code",
   "execution_count": 18,
   "id": "ad3eb78c",
   "metadata": {},
   "outputs": [
    {
     "name": "stdout",
     "output_type": "stream",
     "text": [
      "         Pregnancies\n",
      "Outcome             \n",
      "0              3.298\n",
      "1              4.866\n",
      "\n",
      "\n",
      "         Glucose\n",
      "Outcome         \n",
      "0        109.980\n",
      "1        141.257\n",
      "\n",
      "\n",
      "         BloodPressure\n",
      "Outcome               \n",
      "0               68.184\n",
      "1               70.825\n",
      "\n",
      "\n",
      "         SkinThickness\n",
      "Outcome               \n",
      "0               19.664\n",
      "1               22.164\n",
      "\n",
      "\n",
      "         Insulin\n",
      "Outcome         \n",
      "0         68.792\n",
      "1        100.336\n",
      "\n",
      "\n",
      "           BMI\n",
      "Outcome       \n",
      "0       30.304\n",
      "1       35.143\n",
      "\n",
      "\n",
      "         DiabetesPedigreeFunction\n",
      "Outcome                          \n",
      "0                           0.430\n",
      "1                           0.550\n",
      "\n",
      "\n",
      "           Age\n",
      "Outcome       \n",
      "0       31.190\n",
      "1       37.067\n",
      "\n",
      "\n"
     ]
    }
   ],
   "source": [
    "# Numerik değişkenlerin target göre analizi.\n",
    "def target_summary_with_num(dataframe, target, numerical_col):\n",
    "    print(dataframe.groupby(target).agg({numerical_col: \"mean\"}), end=\"\\n\\n\\n\")\n",
    "\n",
    "\n",
    "for col in num_cols:\n",
    "    target_summary_with_num(df, \"Outcome\", col)"
   ]
  },
  {
   "cell_type": "code",
   "execution_count": 19,
   "id": "95221a54",
   "metadata": {},
   "outputs": [
    {
     "data": {
      "text/plain": [
       "Text(0.5, 1.0, 'Correlation Matrix')"
      ]
     },
     "execution_count": 19,
     "metadata": {},
     "output_type": "execute_result"
    },
    {
     "data": {
      "image/png": "[encoded data removed]",
      "text/plain": [
       "<Figure size 1296x936 with 2 Axes>"
      ]
     },
     "metadata": {
      "needs_background": "light"
     },
     "output_type": "display_data"
    }
   ],
   "source": [
    "# Korelasyon\n",
    "df.corr()\n",
    "\n",
    "f, ax = plt.subplots(figsize=[18, 13])\n",
    "sns.heatmap(df.corr(), annot=True, fmt=\".2f\", ax=ax, cmap=\"magma\")\n",
    "ax.set_title(\"Correlation Matrix\", fontsize=20)"
   ]
  },
  {
   "cell_type": "code",
   "execution_count": 20,
   "id": "4cb3c175",
   "metadata": {},
   "outputs": [],
   "source": [
    "# Base Model kurulumu.\n",
    "y = df[\"Outcome\"]\n",
    "X = df.drop(\"Outcome\", axis=1)\n",
    "X_train, X_test, y_train, y_test = train_test_split(X, y, test_size=0.30, random_state=17)\n",
    "\n",
    "rf_model = RandomForestClassifier(random_state=46).fit(X_train, y_train)\n",
    "y_pred = rf_model.predict(X_test)"
   ]
  },
  {
   "cell_type": "code",
   "execution_count": 21,
   "id": "e53d45ac",
   "metadata": {},
   "outputs": [
    {
     "data": {
      "text/plain": [
       "'Accuracy: 0.77'"
      ]
     },
     "execution_count": 21,
     "metadata": {},
     "output_type": "execute_result"
    }
   ],
   "source": [
    "f\"Accuracy: {round(accuracy_score(y_pred, y_test), 2)}\""
   ]
  },
  {
   "cell_type": "code",
   "execution_count": 22,
   "id": "4e82f7c5",
   "metadata": {},
   "outputs": [
    {
     "data": {
      "text/plain": [
       "'Recall: 0.706'"
      ]
     },
     "execution_count": 22,
     "metadata": {},
     "output_type": "execute_result"
    }
   ],
   "source": [
    "f\"Recall: {round(recall_score(y_pred, y_test), 3)}\""
   ]
  },
  {
   "cell_type": "code",
   "execution_count": 23,
   "id": "b90a092c",
   "metadata": {},
   "outputs": [
    {
     "data": {
      "text/plain": [
       "'Precision: 0.59'"
      ]
     },
     "execution_count": 23,
     "metadata": {},
     "output_type": "execute_result"
    }
   ],
   "source": [
    "f\"Precision: {round(precision_score(y_pred, y_test), 2)}\""
   ]
  },
  {
   "cell_type": "code",
   "execution_count": 24,
   "id": "d9d7dab1",
   "metadata": {},
   "outputs": [
    {
     "data": {
      "text/plain": [
       "'F1: 0.64'"
      ]
     },
     "execution_count": 24,
     "metadata": {},
     "output_type": "execute_result"
    }
   ],
   "source": [
    "f\"F1: {round(f1_score(y_pred, y_test), 2)}\""
   ]
  },
  {
   "cell_type": "code",
   "execution_count": 25,
   "id": "54a3216e",
   "metadata": {},
   "outputs": [
    {
     "data": {
      "text/plain": [
       "'Auc: 0.75'"
      ]
     },
     "execution_count": 25,
     "metadata": {},
     "output_type": "execute_result"
    }
   ],
   "source": [
    "f\"Auc: {round(roc_auc_score(y_pred, y_test), 2)}\""
   ]
  },
  {
   "cell_type": "code",
   "execution_count": 26,
   "id": "278de9cd",
   "metadata": {},
   "outputs": [
    {
     "data": {
      "image/png": "[encoded data removed]",
      "text/plain": [
       "<Figure size 720x720 with 1 Axes>"
      ]
     },
     "metadata": {
      "needs_background": "light"
     },
     "output_type": "display_data"
    }
   ],
   "source": [
    "def plot_importance(model, features, num=len(X), save=False):\n",
    "    feature_imp = pd.DataFrame({'Value': model.feature_importances_, 'Feature': features.columns})\n",
    "    plt.figure(figsize=(10, 10))\n",
    "    sns.set(font_scale=1)\n",
    "    sns.barplot(x=\"Value\", y=\"Feature\", data=feature_imp.sort_values(by=\"Value\",\n",
    "                                                                     ascending=False)[0:num])\n",
    "    plt.title('Features')\n",
    "    plt.tight_layout()\n",
    "    plt.show()\n",
    "    if save:\n",
    "        plt.savefig('importances.png')\n",
    "\n",
    "\n",
    "plot_importance(rf_model, X)"
   ]
  },
  {
   "cell_type": "markdown",
   "id": "293e46f1",
   "metadata": {},
   "source": [
    "# GÖREV 2: FEATURE ENGINEERING\n",
    "    • Adım 1:  Eksik ve aykırı değerler için gerekli işlemleri yapınız. Veri setinde eksik gözlem bulunmamakta\n",
    "    • ama Glikoz, Insulin vb. değişkenlerde 0 değeri içeren gözlem birimleri eksik değeri ifade ediyor olabilir.\n",
    "    • Örneğin; bir kişinin glikoz veya insulin değeri 0 olamayacaktır. Bu durumu dikkate alarak sıfır değerlerini ilgili\n",
    "    • değerlerde NaN olarak atama yapıp sonrasında eksik değerlere\n",
    "    • işlemleri uygulayabilirsiniz.\n",
    "    • Adım 2: Yeni değişkenler oluşturunuz.\n",
    "    • Adım 3: Encoding işlemlerini gerçekleştiriniz.\n",
    "    • Adım 4: Numerik değişkenler için standartlaştırma yapınız.\n",
    "    • Adım 5: Model oluşturunuz."
   ]
  },
  {
   "cell_type": "code",
   "execution_count": 27,
   "id": "0778d2ad",
   "metadata": {},
   "outputs": [
    {
     "data": {
      "text/plain": [
       "['Glucose', 'BloodPressure', 'SkinThickness', 'Insulin', 'BMI']"
      ]
     },
     "execution_count": 27,
     "metadata": {},
     "output_type": "execute_result"
    }
   ],
   "source": [
    "# Eksik değer analizi.\n",
    "# Bir insanda Pregnancies ve Outcome dışındaki değişken değerleri 0 olamayacağı bilinmektedir. Bundan dolayı bu değerlerle ilgili aksiyon kararı alınmalıdır. 0 olan değerlere NaN atanabilir .\n",
    "zero_columns = [col for col in df.columns if (df[col].min() == 0 and col not in [\"Pregnancies\", \"Outcome\"])]\n",
    "zero_columns"
   ]
  },
  {
   "cell_type": "code",
   "execution_count": 28,
   "id": "72939d01",
   "metadata": {},
   "outputs": [],
   "source": [
    "# Gözlem birimlerinde 0 olan degiskenlerin her birisine gidip 0 iceren gozlem degerlerini NaN ile değiştirdik.\n",
    "for col in zero_columns:\n",
    "    df[col] = np.where(df[col] == 0, np.nan, df[col])"
   ]
  },
  {
   "cell_type": "code",
   "execution_count": 29,
   "id": "c555bcc5",
   "metadata": {},
   "outputs": [
    {
     "data": {
      "text/plain": [
       "Pregnancies                   0\n",
       "Glucose                       5\n",
       "BloodPressure                35\n",
       "SkinThickness               227\n",
       "Insulin                     374\n",
       "BMI                          11\n",
       "DiabetesPedigreeFunction      0\n",
       "Age                           0\n",
       "Outcome                       0\n",
       "dtype: int64"
      ]
     },
     "execution_count": 29,
     "metadata": {},
     "output_type": "execute_result"
    }
   ],
   "source": [
    "# Eksik Gözlem Analizi\n",
    "df.isnull().sum()"
   ]
  },
  {
   "cell_type": "code",
   "execution_count": 30,
   "id": "967465dd",
   "metadata": {},
   "outputs": [
    {
     "name": "stdout",
     "output_type": "stream",
     "text": [
      "               n_miss  ratio\n",
      "Insulin           374 48.700\n",
      "SkinThickness     227 29.560\n",
      "BloodPressure      35  4.560\n",
      "BMI                11  1.430\n",
      "Glucose             5  0.650\n"
     ]
    }
   ],
   "source": [
    "def missing_values_table(dataframe, na_name=False):\n",
    "    na_columns = [col for col in dataframe.columns if dataframe[col].isnull().sum() > 0]\n",
    "    n_miss = dataframe[na_columns].isnull().sum().sort_values(ascending=False)\n",
    "    ratio = (dataframe[na_columns].isnull().sum() / dataframe.shape[0] * 100).sort_values(ascending=False)\n",
    "    missing_df = pd.concat([n_miss, np.round(ratio, 2)], axis=1, keys=['n_miss', 'ratio'])\n",
    "    print(missing_df, end=\"\\n\")\n",
    "    if na_name:\n",
    "        return na_columns\n",
    "\n",
    "\n",
    "na_columns = missing_values_table(df, na_name=True)"
   ]
  },
  {
   "cell_type": "code",
   "execution_count": 31,
   "id": "f01abd4f",
   "metadata": {},
   "outputs": [
    {
     "name": "stdout",
     "output_type": "stream",
     "text": [
      "                 TARGET_MEAN  Count\n",
      "Glucose_NA_FLAG                    \n",
      "0                      0.349    763\n",
      "1                      0.400      5\n",
      "\n",
      "\n",
      "                       TARGET_MEAN  Count\n",
      "BloodPressure_NA_FLAG                    \n",
      "0                            0.344    733\n",
      "1                            0.457     35\n",
      "\n",
      "\n",
      "                       TARGET_MEAN  Count\n",
      "SkinThickness_NA_FLAG                    \n",
      "0                            0.333    541\n",
      "1                            0.388    227\n",
      "\n",
      "\n",
      "                 TARGET_MEAN  Count\n",
      "Insulin_NA_FLAG                    \n",
      "0                      0.330    394\n",
      "1                      0.369    374\n",
      "\n",
      "\n",
      "             TARGET_MEAN  Count\n",
      "BMI_NA_FLAG                    \n",
      "0                  0.351    757\n",
      "1                  0.182     11\n",
      "\n",
      "\n"
     ]
    }
   ],
   "source": [
    "# Eksik Değerlerin Bağımlı Değişken ile İlişkisinin İncelenmesi\n",
    "def missing_vs_target(dataframe, target, na_columns):\n",
    "    temp_df = dataframe.copy()\n",
    "    for col in na_columns:\n",
    "        temp_df[col + '_NA_FLAG'] = np.where(temp_df[col].isnull(), 1, 0)\n",
    "    na_flags = temp_df.loc[:, temp_df.columns.str.contains(\"_NA_\")].columns\n",
    "    for col in na_flags:\n",
    "        print(pd.DataFrame({\"TARGET_MEAN\": temp_df.groupby(col)[target].mean(),\n",
    "                            \"Count\": temp_df.groupby(col)[target].count()}), end=\"\\n\\n\\n\")\n",
    "\n",
    "\n",
    "missing_vs_target(df, \"Outcome\", na_columns)"
   ]
  },
  {
   "cell_type": "code",
   "execution_count": 32,
   "id": "3e6bd2c0",
   "metadata": {},
   "outputs": [
    {
     "data": {
      "text/plain": [
       "Pregnancies                 0\n",
       "Glucose                     0\n",
       "BloodPressure               0\n",
       "SkinThickness               0\n",
       "Insulin                     0\n",
       "BMI                         0\n",
       "DiabetesPedigreeFunction    0\n",
       "Age                         0\n",
       "Outcome                     0\n",
       "dtype: int64"
      ]
     },
     "execution_count": 32,
     "metadata": {},
     "output_type": "execute_result"
    }
   ],
   "source": [
    "# Eksik Değerlerin Doldurulması\n",
    "for col in zero_columns:\n",
    "    df.loc[df[col].isnull(), col] = df[col].median()\n",
    "\n",
    "df.isnull().sum()"
   ]
  },
  {
   "cell_type": "markdown",
   "id": "3c01fa80",
   "metadata": {},
   "source": [
    "# Aykırı Değer Analizi"
   ]
  },
  {
   "cell_type": "code",
   "execution_count": 33,
   "id": "68ab67d5",
   "metadata": {},
   "outputs": [],
   "source": [
    "def outlier_thresholds(dataframe, col_name, q1=0.05, q3=0.95):\n",
    "    quartile1 = dataframe[col_name].quantile(q1)\n",
    "    quartile3 = dataframe[col_name].quantile(q3)\n",
    "    interquantile_range = quartile3 - quartile1\n",
    "    up_limit = quartile3 + 1.5 * interquantile_range\n",
    "    low_limit = quartile1 - 1.5 * interquantile_range\n",
    "    return low_limit, up_limit"
   ]
  },
  {
   "cell_type": "code",
   "execution_count": 34,
   "id": "29c389a1",
   "metadata": {},
   "outputs": [],
   "source": [
    "def check_outlier(dataframe, col_name):\n",
    "    low_limit, up_limit = outlier_thresholds(dataframe, col_name)\n",
    "    if dataframe[(dataframe[col_name] > up_limit) | (dataframe[col_name] < low_limit)].any(axis=None):\n",
    "        return True\n",
    "    else:\n",
    "        return False"
   ]
  },
  {
   "cell_type": "code",
   "execution_count": 35,
   "id": "01dec6cd",
   "metadata": {},
   "outputs": [],
   "source": [
    "def replace_with_thresholds(dataframe, variable, q1=0.05, q3=0.95):\n",
    "    low_limit, up_limit = outlier_thresholds(dataframe, variable, q1=0.05, q3=0.95)\n",
    "    dataframe.loc[(dataframe[variable] < low_limit), variable] = low_limit\n",
    "    dataframe.loc[(dataframe[variable] > up_limit), variable] = up_limit"
   ]
  },
  {
   "cell_type": "code",
   "execution_count": 36,
   "id": "114a12bc",
   "metadata": {},
   "outputs": [
    {
     "name": "stdout",
     "output_type": "stream",
     "text": [
      "Pregnancies False\n",
      "Glucose False\n",
      "BloodPressure False\n",
      "SkinThickness True\n",
      "Insulin True\n",
      "BMI False\n",
      "DiabetesPedigreeFunction False\n",
      "Age False\n",
      "Outcome False\n",
      "Pregnancies False\n",
      "Glucose False\n",
      "BloodPressure False\n",
      "SkinThickness False\n",
      "Insulin False\n",
      "BMI False\n",
      "DiabetesPedigreeFunction False\n",
      "Age False\n",
      "Outcome False\n"
     ]
    }
   ],
   "source": [
    "# Aykırı Değer Analizi ve Baskılama İşlemi\n",
    "for col in df.columns:\n",
    "    print(col, check_outlier(df, col))\n",
    "    if check_outlier(df, col):\n",
    "        replace_with_thresholds(df, col)\n",
    "\n",
    "for col in df.columns:\n",
    "    print(col, check_outlier(df, col))"
   ]
  },
  {
   "cell_type": "markdown",
   "id": "d0168555",
   "metadata": {},
   "source": [
    "# Özellik Çıkarımı"
   ]
  },
  {
   "cell_type": "code",
   "execution_count": 37,
   "id": "79b1b799",
   "metadata": {},
   "outputs": [],
   "source": [
    "# Yaş değişkenini kategorilere ayırıp yeni yaş değişkeni oluşturulması\n",
    "df.loc[(df[\"Age\"] >= 21) & (df[\"Age\"] < 50), \"NEW_AGE_CAT\"] = \"mature\"\n",
    "df.loc[(df[\"Age\"] >= 50), \"NEW_AGE_CAT\"] = \"senior\""
   ]
  },
  {
   "cell_type": "code",
   "execution_count": 38,
   "id": "2ddedf93",
   "metadata": {},
   "outputs": [],
   "source": [
    "# BMI 18,5 aşağısı underweight, 18.5 ile 24.9 arası normal, 24.9 ile 29.9 arası Overweight ve 30 üstü obez\n",
    "df['NEW_BMI'] = pd.cut(x=df['BMI'], bins=[0, 18.5, 24.9, 29.9, 100],\n",
    "                       labels=[\"Underweight\", \"Healthy\", \"Overweight\", \"Obese\"])"
   ]
  },
  {
   "cell_type": "code",
   "execution_count": 39,
   "id": "919b23e7",
   "metadata": {},
   "outputs": [],
   "source": [
    "# Glukoz degerini kategorik değişkene çevirme\n",
    "df[\"NEW_GLUCOSE\"] = pd.cut(x=df[\"Glucose\"], bins=[0, 140, 200, 300], labels=[\"Normal\", \"Prediabetes\", \"Diabetes\"])"
   ]
  },
  {
   "cell_type": "code",
   "execution_count": 40,
   "id": "2628b851",
   "metadata": {},
   "outputs": [],
   "source": [
    "# # Yaş ve beden kitle indeksini bir arada düşünerek kategorik değişken oluşturma\n",
    "df.loc[(df[\"BMI\"] < 18.5) & ((df[\"Age\"] >= 21) & (df[\"Age\"] < 50)), \"NEW_AGE_BMI_NOM\"] = \"underweightmature\"\n",
    "df.loc[(df[\"BMI\"] < 18.5) & (df[\"Age\"] >= 50), \"NEW_AGE_BMI_NOM\"] = \"underweightsenior\"\n",
    "df.loc[((df[\"BMI\"] >= 18.5) & (df[\"BMI\"] < 25)) & (\n",
    "        (df[\"Age\"] >= 21) & (df[\"Age\"] < 50)), \"NEW_AGE_BMI_NOM\"] = \"healthymature\"\n",
    "df.loc[((df[\"BMI\"] >= 18.5) & (df[\"BMI\"] < 25)) & (df[\"Age\"] >= 50), \"NEW_AGE_BMI_NOM\"] = \"healthysenior\"\n",
    "df.loc[((df[\"BMI\"] >= 25) & (df[\"BMI\"] < 30)) & (\n",
    "        (df[\"Age\"] >= 21) & (df[\"Age\"] < 50)), \"NEW_AGE_BMI_NOM\"] = \"overweightmature\"\n",
    "df.loc[((df[\"BMI\"] >= 25) & (df[\"BMI\"] < 30)) & (df[\"Age\"] >= 50), \"NEW_AGE_BMI_NOM\"] = \"overweightsenior\"\n",
    "df.loc[(df[\"BMI\"] > 18.5) & ((df[\"Age\"] >= 21) & (df[\"Age\"] < 50)), \"NEW_AGE_BMI_NOM\"] = \"obesemature\"\n",
    "df.loc[(df[\"BMI\"] > 18.5) & (df[\"Age\"] >= 50), \"NEW_AGE_BMI_NOM\"] = \"obesesenior\""
   ]
  },
  {
   "cell_type": "code",
   "execution_count": 41,
   "id": "4d16b60e",
   "metadata": {},
   "outputs": [],
   "source": [
    "# Yaş ve Glikoz değerlerini bir arada düşünerek kategorik değişken oluşturma\n",
    "df.loc[(df[\"Glucose\"] < 70) & ((df[\"Age\"] >= 21) & (df[\"Age\"] < 50)), \"NEW_AGE_GLUCOSE_NOM\"] = \"lowmature\"\n",
    "df.loc[(df[\"Glucose\"] < 70) & (df[\"Age\"] >= 50), \"NEW_AGE_GLUCOSE_NOM\"] = \"lowsenior\"\n",
    "df.loc[((df[\"Glucose\"] >= 70) & (df[\"Glucose\"] < 100)) & (\n",
    "        (df[\"Age\"] >= 21) & (df[\"Age\"] < 50)), \"NEW_AGE_GLUCOSE_NOM\"] = \"normalmature\"\n",
    "df.loc[((df[\"Glucose\"] >= 70) & (df[\"Glucose\"] < 100)) & (df[\"Age\"] >= 50), \"NEW_AGE_GLUCOSE_NOM\"] = \"normalsenior\"\n",
    "df.loc[((df[\"Glucose\"] >= 100) & (df[\"Glucose\"] <= 125)) & (\n",
    "        (df[\"Age\"] >= 21) & (df[\"Age\"] < 50)), \"NEW_AGE_GLUCOSE_NOM\"] = \"hiddenmature\"\n",
    "df.loc[((df[\"Glucose\"] >= 100) & (df[\"Glucose\"] <= 125)) & (df[\"Age\"] >= 50), \"NEW_AGE_GLUCOSE_NOM\"] = \"hiddensenior\"\n",
    "df.loc[(df[\"Glucose\"] > 125) & ((df[\"Age\"] >= 21) & (df[\"Age\"] < 50)), \"NEW_AGE_GLUCOSE_NOM\"] = \"highmature\"\n",
    "df.loc[(df[\"Glucose\"] > 125) & (df[\"Age\"] >= 50), \"NEW_AGE_GLUCOSE_NOM\"] = \"highsenior\""
   ]
  },
  {
   "cell_type": "code",
   "execution_count": 42,
   "id": "dfc0fbcd",
   "metadata": {},
   "outputs": [],
   "source": [
    "# İnsulin Değeri ile Kategorik değişken türetmek\n",
    "def set_insulin(dataframe, col_name=\"Insulin\"):\n",
    "    if 16 <= dataframe[col_name] <= 166:\n",
    "        return \"Normal\"\n",
    "    else:\n",
    "        return \"Abnormal\""
   ]
  },
  {
   "cell_type": "code",
   "execution_count": 43,
   "id": "2a53baa9",
   "metadata": {},
   "outputs": [],
   "source": [
    "df[\"NEW_INSULIN_SCORE\"] = df.apply(set_insulin, axis=1)\n",
    "df[\"NEW_GLUCOSE*INSULIN\"] = df[\"Glucose\"] * df[\"Insulin\"]\n",
    "df[\"NEW_GLUCOSE*PREGNANCIES\"] = df[\"Glucose\"] * df[\"Pregnancies\"]"
   ]
  },
  {
   "cell_type": "code",
   "execution_count": 44,
   "id": "9aeb4a1a",
   "metadata": {},
   "outputs": [],
   "source": [
    "# Kolonların büyültülmesi\n",
    "df.columns = [col.upper() for col in df.columns]"
   ]
  },
  {
   "cell_type": "code",
   "execution_count": 45,
   "id": "a2fb00d2",
   "metadata": {},
   "outputs": [
    {
     "data": {
      "text/html": [
       "<div>\n",
       "<style scoped>\n",
       "    .dataframe tbody tr th:only-of-type {\n",
       "        vertical-align: middle;\n",
       "    }\n",
       "\n",
       "    .dataframe tbody tr th {\n",
       "        vertical-align: top;\n",
       "    }\n",
       "\n",
       "    .dataframe thead th {\n",
       "        text-align: right;\n",
       "    }\n",
       "</style>\n",
       "<table border=\"1\" class=\"dataframe\">\n",
       "  <thead>\n",
       "    <tr style=\"text-align: right;\">\n",
       "      <th></th>\n",
       "      <th>PREGNANCIES</th>\n",
       "      <th>GLUCOSE</th>\n",
       "      <th>BLOODPRESSURE</th>\n",
       "      <th>SKINTHICKNESS</th>\n",
       "      <th>INSULIN</th>\n",
       "      <th>BMI</th>\n",
       "      <th>DIABETESPEDIGREEFUNCTION</th>\n",
       "      <th>AGE</th>\n",
       "      <th>OUTCOME</th>\n",
       "      <th>NEW_AGE_CAT</th>\n",
       "      <th>NEW_BMI</th>\n",
       "      <th>NEW_GLUCOSE</th>\n",
       "      <th>NEW_AGE_BMI_NOM</th>\n",
       "      <th>NEW_AGE_GLUCOSE_NOM</th>\n",
       "      <th>NEW_INSULIN_SCORE</th>\n",
       "      <th>NEW_GLUCOSE*INSULIN</th>\n",
       "      <th>NEW_GLUCOSE*PREGNANCIES</th>\n",
       "    </tr>\n",
       "  </thead>\n",
       "  <tbody>\n",
       "    <tr>\n",
       "      <th>0</th>\n",
       "      <td>6</td>\n",
       "      <td>148.000</td>\n",
       "      <td>72.000</td>\n",
       "      <td>35.000</td>\n",
       "      <td>125.000</td>\n",
       "      <td>33.600</td>\n",
       "      <td>0.627</td>\n",
       "      <td>50</td>\n",
       "      <td>1</td>\n",
       "      <td>senior</td>\n",
       "      <td>Obese</td>\n",
       "      <td>Prediabetes</td>\n",
       "      <td>obesesenior</td>\n",
       "      <td>highsenior</td>\n",
       "      <td>Normal</td>\n",
       "      <td>18500.000</td>\n",
       "      <td>888.000</td>\n",
       "    </tr>\n",
       "    <tr>\n",
       "      <th>1</th>\n",
       "      <td>1</td>\n",
       "      <td>85.000</td>\n",
       "      <td>66.000</td>\n",
       "      <td>29.000</td>\n",
       "      <td>125.000</td>\n",
       "      <td>26.600</td>\n",
       "      <td>0.351</td>\n",
       "      <td>31</td>\n",
       "      <td>0</td>\n",
       "      <td>mature</td>\n",
       "      <td>Overweight</td>\n",
       "      <td>Normal</td>\n",
       "      <td>obesemature</td>\n",
       "      <td>normalmature</td>\n",
       "      <td>Normal</td>\n",
       "      <td>10625.000</td>\n",
       "      <td>85.000</td>\n",
       "    </tr>\n",
       "    <tr>\n",
       "      <th>2</th>\n",
       "      <td>8</td>\n",
       "      <td>183.000</td>\n",
       "      <td>64.000</td>\n",
       "      <td>29.000</td>\n",
       "      <td>125.000</td>\n",
       "      <td>23.300</td>\n",
       "      <td>0.672</td>\n",
       "      <td>32</td>\n",
       "      <td>1</td>\n",
       "      <td>mature</td>\n",
       "      <td>Healthy</td>\n",
       "      <td>Prediabetes</td>\n",
       "      <td>obesemature</td>\n",
       "      <td>highmature</td>\n",
       "      <td>Normal</td>\n",
       "      <td>22875.000</td>\n",
       "      <td>1464.000</td>\n",
       "    </tr>\n",
       "    <tr>\n",
       "      <th>3</th>\n",
       "      <td>1</td>\n",
       "      <td>89.000</td>\n",
       "      <td>66.000</td>\n",
       "      <td>23.000</td>\n",
       "      <td>94.000</td>\n",
       "      <td>28.100</td>\n",
       "      <td>0.167</td>\n",
       "      <td>21</td>\n",
       "      <td>0</td>\n",
       "      <td>mature</td>\n",
       "      <td>Overweight</td>\n",
       "      <td>Normal</td>\n",
       "      <td>obesemature</td>\n",
       "      <td>normalmature</td>\n",
       "      <td>Normal</td>\n",
       "      <td>8366.000</td>\n",
       "      <td>89.000</td>\n",
       "    </tr>\n",
       "    <tr>\n",
       "      <th>4</th>\n",
       "      <td>0</td>\n",
       "      <td>137.000</td>\n",
       "      <td>40.000</td>\n",
       "      <td>35.000</td>\n",
       "      <td>168.000</td>\n",
       "      <td>43.100</td>\n",
       "      <td>2.288</td>\n",
       "      <td>33</td>\n",
       "      <td>1</td>\n",
       "      <td>mature</td>\n",
       "      <td>Obese</td>\n",
       "      <td>Normal</td>\n",
       "      <td>obesemature</td>\n",
       "      <td>highmature</td>\n",
       "      <td>Abnormal</td>\n",
       "      <td>23016.000</td>\n",
       "      <td>0.000</td>\n",
       "    </tr>\n",
       "    <tr>\n",
       "      <th>5</th>\n",
       "      <td>5</td>\n",
       "      <td>116.000</td>\n",
       "      <td>74.000</td>\n",
       "      <td>29.000</td>\n",
       "      <td>125.000</td>\n",
       "      <td>25.600</td>\n",
       "      <td>0.201</td>\n",
       "      <td>30</td>\n",
       "      <td>0</td>\n",
       "      <td>mature</td>\n",
       "      <td>Overweight</td>\n",
       "      <td>Normal</td>\n",
       "      <td>obesemature</td>\n",
       "      <td>hiddenmature</td>\n",
       "      <td>Normal</td>\n",
       "      <td>14500.000</td>\n",
       "      <td>580.000</td>\n",
       "    </tr>\n",
       "    <tr>\n",
       "      <th>6</th>\n",
       "      <td>3</td>\n",
       "      <td>78.000</td>\n",
       "      <td>50.000</td>\n",
       "      <td>32.000</td>\n",
       "      <td>88.000</td>\n",
       "      <td>31.000</td>\n",
       "      <td>0.248</td>\n",
       "      <td>26</td>\n",
       "      <td>1</td>\n",
       "      <td>mature</td>\n",
       "      <td>Obese</td>\n",
       "      <td>Normal</td>\n",
       "      <td>obesemature</td>\n",
       "      <td>normalmature</td>\n",
       "      <td>Normal</td>\n",
       "      <td>6864.000</td>\n",
       "      <td>234.000</td>\n",
       "    </tr>\n",
       "    <tr>\n",
       "      <th>7</th>\n",
       "      <td>10</td>\n",
       "      <td>115.000</td>\n",
       "      <td>72.000</td>\n",
       "      <td>29.000</td>\n",
       "      <td>125.000</td>\n",
       "      <td>35.300</td>\n",
       "      <td>0.134</td>\n",
       "      <td>29</td>\n",
       "      <td>0</td>\n",
       "      <td>mature</td>\n",
       "      <td>Obese</td>\n",
       "      <td>Normal</td>\n",
       "      <td>obesemature</td>\n",
       "      <td>hiddenmature</td>\n",
       "      <td>Normal</td>\n",
       "      <td>14375.000</td>\n",
       "      <td>1150.000</td>\n",
       "    </tr>\n",
       "    <tr>\n",
       "      <th>8</th>\n",
       "      <td>2</td>\n",
       "      <td>197.000</td>\n",
       "      <td>70.000</td>\n",
       "      <td>45.000</td>\n",
       "      <td>543.000</td>\n",
       "      <td>30.500</td>\n",
       "      <td>0.158</td>\n",
       "      <td>53</td>\n",
       "      <td>1</td>\n",
       "      <td>senior</td>\n",
       "      <td>Obese</td>\n",
       "      <td>Prediabetes</td>\n",
       "      <td>obesesenior</td>\n",
       "      <td>highsenior</td>\n",
       "      <td>Abnormal</td>\n",
       "      <td>106971.000</td>\n",
       "      <td>394.000</td>\n",
       "    </tr>\n",
       "    <tr>\n",
       "      <th>9</th>\n",
       "      <td>8</td>\n",
       "      <td>125.000</td>\n",
       "      <td>96.000</td>\n",
       "      <td>29.000</td>\n",
       "      <td>125.000</td>\n",
       "      <td>32.300</td>\n",
       "      <td>0.232</td>\n",
       "      <td>54</td>\n",
       "      <td>1</td>\n",
       "      <td>senior</td>\n",
       "      <td>Obese</td>\n",
       "      <td>Normal</td>\n",
       "      <td>obesesenior</td>\n",
       "      <td>hiddensenior</td>\n",
       "      <td>Normal</td>\n",
       "      <td>15625.000</td>\n",
       "      <td>1000.000</td>\n",
       "    </tr>\n",
       "    <tr>\n",
       "      <th>10</th>\n",
       "      <td>4</td>\n",
       "      <td>110.000</td>\n",
       "      <td>92.000</td>\n",
       "      <td>29.000</td>\n",
       "      <td>125.000</td>\n",
       "      <td>37.600</td>\n",
       "      <td>0.191</td>\n",
       "      <td>30</td>\n",
       "      <td>0</td>\n",
       "      <td>mature</td>\n",
       "      <td>Obese</td>\n",
       "      <td>Normal</td>\n",
       "      <td>obesemature</td>\n",
       "      <td>hiddenmature</td>\n",
       "      <td>Normal</td>\n",
       "      <td>13750.000</td>\n",
       "      <td>440.000</td>\n",
       "    </tr>\n",
       "  </tbody>\n",
       "</table>\n",
       "</div>"
      ],
      "text/plain": [
       "    PREGNANCIES  GLUCOSE  BLOODPRESSURE  SKINTHICKNESS  INSULIN    BMI  DIABETESPEDIGREEFUNCTION  AGE  OUTCOME NEW_AGE_CAT     NEW_BMI  NEW_GLUCOSE NEW_AGE_BMI_NOM  \\\n",
       "0             6  148.000         72.000         35.000  125.000 33.600                     0.627   50        1      senior       Obese  Prediabetes     obesesenior   \n",
       "1             1   85.000         66.000         29.000  125.000 26.600                     0.351   31        0      mature  Overweight       Normal     obesemature   \n",
       "2             8  183.000         64.000         29.000  125.000 23.300                     0.672   32        1      mature     Healthy  Prediabetes     obesemature   \n",
       "3             1   89.000         66.000         23.000   94.000 28.100                     0.167   21        0      mature  Overweight       Normal     obesemature   \n",
       "4             0  137.000         40.000         35.000  168.000 43.100                     2.288   33        1      mature       Obese       Normal     obesemature   \n",
       "5             5  116.000         74.000         29.000  125.000 25.600                     0.201   30        0      mature  Overweight       Normal     obesemature   \n",
       "6             3   78.000         50.000         32.000   88.000 31.000                     0.248   26        1      mature       Obese       Normal     obesemature   \n",
       "7            10  115.000         72.000         29.000  125.000 35.300                     0.134   29        0      mature       Obese       Normal     obesemature   \n",
       "8             2  197.000         70.000         45.000  543.000 30.500                     0.158   53        1      senior       Obese  Prediabetes     obesesenior   \n",
       "9             8  125.000         96.000         29.000  125.000 32.300                     0.232   54        1      senior       Obese       Normal     obesesenior   \n",
       "10            4  110.000         92.000         29.000  125.000 37.600                     0.191   30        0      mature       Obese       Normal     obesemature   \n",
       "\n",
       "   NEW_AGE_GLUCOSE_NOM NEW_INSULIN_SCORE  NEW_GLUCOSE*INSULIN  NEW_GLUCOSE*PREGNANCIES  \n",
       "0           highsenior            Normal            18500.000                  888.000  \n",
       "1         normalmature            Normal            10625.000                   85.000  \n",
       "2           highmature            Normal            22875.000                 1464.000  \n",
       "3         normalmature            Normal             8366.000                   89.000  \n",
       "4           highmature          Abnormal            23016.000                    0.000  \n",
       "5         hiddenmature            Normal            14500.000                  580.000  \n",
       "6         normalmature            Normal             6864.000                  234.000  \n",
       "7         hiddenmature            Normal            14375.000                 1150.000  \n",
       "8           highsenior          Abnormal           106971.000                  394.000  \n",
       "9         hiddensenior            Normal            15625.000                 1000.000  \n",
       "10        hiddenmature            Normal            13750.000                  440.000  "
      ]
     },
     "execution_count": 45,
     "metadata": {},
     "output_type": "execute_result"
    }
   ],
   "source": [
    "df.head(11)"
   ]
  },
  {
   "cell_type": "code",
   "execution_count": 46,
   "id": "07462cee",
   "metadata": {},
   "outputs": [
    {
     "data": {
      "text/plain": [
       "(768, 17)"
      ]
     },
     "execution_count": 46,
     "metadata": {},
     "output_type": "execute_result"
    }
   ],
   "source": [
    "df.shape"
   ]
  },
  {
   "cell_type": "markdown",
   "id": "990db4f0",
   "metadata": {},
   "source": [
    "# Encoding"
   ]
  },
  {
   "cell_type": "code",
   "execution_count": 47,
   "id": "72482b25",
   "metadata": {},
   "outputs": [
    {
     "name": "stdout",
     "output_type": "stream",
     "text": [
      "Observations: 768\n",
      "Variables: 17\n",
      "cat_cols: 7\n",
      "num_cols: 10\n",
      "cat_but_car: 0\n",
      "num_but_cat: 3\n"
     ]
    }
   ],
   "source": [
    "# Değişkenlerin tiplerine göre ayrılması işlemi\n",
    "cat_cols, num_cols, cat_but_car = grab_col_names(df)"
   ]
  },
  {
   "cell_type": "code",
   "execution_count": 48,
   "id": "ea4f876f",
   "metadata": {},
   "outputs": [
    {
     "data": {
      "text/plain": [
       "['NEW_AGE_CAT', 'NEW_INSULIN_SCORE']"
      ]
     },
     "execution_count": 48,
     "metadata": {},
     "output_type": "execute_result"
    }
   ],
   "source": [
    "# LABEL ENCODING\n",
    "def label_encoder(dataframe, binary_col):\n",
    "    labelencoder = LabelEncoder()\n",
    "    dataframe[binary_col] = labelencoder.fit_transform(dataframe[binary_col])\n",
    "    return dataframe\n",
    "binary_cols = [col for col in df.columns if df[col].dtypes == \"O\" and df[col].nunique() == 2]\n",
    "binary_cols"
   ]
  },
  {
   "cell_type": "code",
   "execution_count": 49,
   "id": "a4b7ee86",
   "metadata": {},
   "outputs": [],
   "source": [
    "for col in binary_cols:\n",
    "    df = label_encoder(df, col)"
   ]
  },
  {
   "cell_type": "code",
   "execution_count": 50,
   "id": "b3b7afe5",
   "metadata": {},
   "outputs": [
    {
     "data": {
      "text/html": [
       "<div>\n",
       "<style scoped>\n",
       "    .dataframe tbody tr th:only-of-type {\n",
       "        vertical-align: middle;\n",
       "    }\n",
       "\n",
       "    .dataframe tbody tr th {\n",
       "        vertical-align: top;\n",
       "    }\n",
       "\n",
       "    .dataframe thead th {\n",
       "        text-align: right;\n",
       "    }\n",
       "</style>\n",
       "<table border=\"1\" class=\"dataframe\">\n",
       "  <thead>\n",
       "    <tr style=\"text-align: right;\">\n",
       "      <th></th>\n",
       "      <th>PREGNANCIES</th>\n",
       "      <th>GLUCOSE</th>\n",
       "      <th>BLOODPRESSURE</th>\n",
       "      <th>SKINTHICKNESS</th>\n",
       "      <th>INSULIN</th>\n",
       "      <th>BMI</th>\n",
       "      <th>DIABETESPEDIGREEFUNCTION</th>\n",
       "      <th>AGE</th>\n",
       "      <th>OUTCOME</th>\n",
       "      <th>NEW_AGE_CAT</th>\n",
       "      <th>NEW_BMI</th>\n",
       "      <th>NEW_GLUCOSE</th>\n",
       "      <th>NEW_AGE_BMI_NOM</th>\n",
       "      <th>NEW_AGE_GLUCOSE_NOM</th>\n",
       "      <th>NEW_INSULIN_SCORE</th>\n",
       "      <th>NEW_GLUCOSE*INSULIN</th>\n",
       "      <th>NEW_GLUCOSE*PREGNANCIES</th>\n",
       "    </tr>\n",
       "  </thead>\n",
       "  <tbody>\n",
       "    <tr>\n",
       "      <th>0</th>\n",
       "      <td>6</td>\n",
       "      <td>148.000</td>\n",
       "      <td>72.000</td>\n",
       "      <td>35.000</td>\n",
       "      <td>125.000</td>\n",
       "      <td>33.600</td>\n",
       "      <td>0.627</td>\n",
       "      <td>50</td>\n",
       "      <td>1</td>\n",
       "      <td>1</td>\n",
       "      <td>Obese</td>\n",
       "      <td>Prediabetes</td>\n",
       "      <td>obesesenior</td>\n",
       "      <td>highsenior</td>\n",
       "      <td>1</td>\n",
       "      <td>18500.000</td>\n",
       "      <td>888.000</td>\n",
       "    </tr>\n",
       "    <tr>\n",
       "      <th>1</th>\n",
       "      <td>1</td>\n",
       "      <td>85.000</td>\n",
       "      <td>66.000</td>\n",
       "      <td>29.000</td>\n",
       "      <td>125.000</td>\n",
       "      <td>26.600</td>\n",
       "      <td>0.351</td>\n",
       "      <td>31</td>\n",
       "      <td>0</td>\n",
       "      <td>0</td>\n",
       "      <td>Overweight</td>\n",
       "      <td>Normal</td>\n",
       "      <td>obesemature</td>\n",
       "      <td>normalmature</td>\n",
       "      <td>1</td>\n",
       "      <td>10625.000</td>\n",
       "      <td>85.000</td>\n",
       "    </tr>\n",
       "    <tr>\n",
       "      <th>2</th>\n",
       "      <td>8</td>\n",
       "      <td>183.000</td>\n",
       "      <td>64.000</td>\n",
       "      <td>29.000</td>\n",
       "      <td>125.000</td>\n",
       "      <td>23.300</td>\n",
       "      <td>0.672</td>\n",
       "      <td>32</td>\n",
       "      <td>1</td>\n",
       "      <td>0</td>\n",
       "      <td>Healthy</td>\n",
       "      <td>Prediabetes</td>\n",
       "      <td>obesemature</td>\n",
       "      <td>highmature</td>\n",
       "      <td>1</td>\n",
       "      <td>22875.000</td>\n",
       "      <td>1464.000</td>\n",
       "    </tr>\n",
       "    <tr>\n",
       "      <th>3</th>\n",
       "      <td>1</td>\n",
       "      <td>89.000</td>\n",
       "      <td>66.000</td>\n",
       "      <td>23.000</td>\n",
       "      <td>94.000</td>\n",
       "      <td>28.100</td>\n",
       "      <td>0.167</td>\n",
       "      <td>21</td>\n",
       "      <td>0</td>\n",
       "      <td>0</td>\n",
       "      <td>Overweight</td>\n",
       "      <td>Normal</td>\n",
       "      <td>obesemature</td>\n",
       "      <td>normalmature</td>\n",
       "      <td>1</td>\n",
       "      <td>8366.000</td>\n",
       "      <td>89.000</td>\n",
       "    </tr>\n",
       "    <tr>\n",
       "      <th>4</th>\n",
       "      <td>0</td>\n",
       "      <td>137.000</td>\n",
       "      <td>40.000</td>\n",
       "      <td>35.000</td>\n",
       "      <td>168.000</td>\n",
       "      <td>43.100</td>\n",
       "      <td>2.288</td>\n",
       "      <td>33</td>\n",
       "      <td>1</td>\n",
       "      <td>0</td>\n",
       "      <td>Obese</td>\n",
       "      <td>Normal</td>\n",
       "      <td>obesemature</td>\n",
       "      <td>highmature</td>\n",
       "      <td>0</td>\n",
       "      <td>23016.000</td>\n",
       "      <td>0.000</td>\n",
       "    </tr>\n",
       "    <tr>\n",
       "      <th>5</th>\n",
       "      <td>5</td>\n",
       "      <td>116.000</td>\n",
       "      <td>74.000</td>\n",
       "      <td>29.000</td>\n",
       "      <td>125.000</td>\n",
       "      <td>25.600</td>\n",
       "      <td>0.201</td>\n",
       "      <td>30</td>\n",
       "      <td>0</td>\n",
       "      <td>0</td>\n",
       "      <td>Overweight</td>\n",
       "      <td>Normal</td>\n",
       "      <td>obesemature</td>\n",
       "      <td>hiddenmature</td>\n",
       "      <td>1</td>\n",
       "      <td>14500.000</td>\n",
       "      <td>580.000</td>\n",
       "    </tr>\n",
       "    <tr>\n",
       "      <th>6</th>\n",
       "      <td>3</td>\n",
       "      <td>78.000</td>\n",
       "      <td>50.000</td>\n",
       "      <td>32.000</td>\n",
       "      <td>88.000</td>\n",
       "      <td>31.000</td>\n",
       "      <td>0.248</td>\n",
       "      <td>26</td>\n",
       "      <td>1</td>\n",
       "      <td>0</td>\n",
       "      <td>Obese</td>\n",
       "      <td>Normal</td>\n",
       "      <td>obesemature</td>\n",
       "      <td>normalmature</td>\n",
       "      <td>1</td>\n",
       "      <td>6864.000</td>\n",
       "      <td>234.000</td>\n",
       "    </tr>\n",
       "    <tr>\n",
       "      <th>7</th>\n",
       "      <td>10</td>\n",
       "      <td>115.000</td>\n",
       "      <td>72.000</td>\n",
       "      <td>29.000</td>\n",
       "      <td>125.000</td>\n",
       "      <td>35.300</td>\n",
       "      <td>0.134</td>\n",
       "      <td>29</td>\n",
       "      <td>0</td>\n",
       "      <td>0</td>\n",
       "      <td>Obese</td>\n",
       "      <td>Normal</td>\n",
       "      <td>obesemature</td>\n",
       "      <td>hiddenmature</td>\n",
       "      <td>1</td>\n",
       "      <td>14375.000</td>\n",
       "      <td>1150.000</td>\n",
       "    </tr>\n",
       "    <tr>\n",
       "      <th>8</th>\n",
       "      <td>2</td>\n",
       "      <td>197.000</td>\n",
       "      <td>70.000</td>\n",
       "      <td>45.000</td>\n",
       "      <td>543.000</td>\n",
       "      <td>30.500</td>\n",
       "      <td>0.158</td>\n",
       "      <td>53</td>\n",
       "      <td>1</td>\n",
       "      <td>1</td>\n",
       "      <td>Obese</td>\n",
       "      <td>Prediabetes</td>\n",
       "      <td>obesesenior</td>\n",
       "      <td>highsenior</td>\n",
       "      <td>0</td>\n",
       "      <td>106971.000</td>\n",
       "      <td>394.000</td>\n",
       "    </tr>\n",
       "    <tr>\n",
       "      <th>9</th>\n",
       "      <td>8</td>\n",
       "      <td>125.000</td>\n",
       "      <td>96.000</td>\n",
       "      <td>29.000</td>\n",
       "      <td>125.000</td>\n",
       "      <td>32.300</td>\n",
       "      <td>0.232</td>\n",
       "      <td>54</td>\n",
       "      <td>1</td>\n",
       "      <td>1</td>\n",
       "      <td>Obese</td>\n",
       "      <td>Normal</td>\n",
       "      <td>obesesenior</td>\n",
       "      <td>hiddensenior</td>\n",
       "      <td>1</td>\n",
       "      <td>15625.000</td>\n",
       "      <td>1000.000</td>\n",
       "    </tr>\n",
       "    <tr>\n",
       "      <th>10</th>\n",
       "      <td>4</td>\n",
       "      <td>110.000</td>\n",
       "      <td>92.000</td>\n",
       "      <td>29.000</td>\n",
       "      <td>125.000</td>\n",
       "      <td>37.600</td>\n",
       "      <td>0.191</td>\n",
       "      <td>30</td>\n",
       "      <td>0</td>\n",
       "      <td>0</td>\n",
       "      <td>Obese</td>\n",
       "      <td>Normal</td>\n",
       "      <td>obesemature</td>\n",
       "      <td>hiddenmature</td>\n",
       "      <td>1</td>\n",
       "      <td>13750.000</td>\n",
       "      <td>440.000</td>\n",
       "    </tr>\n",
       "  </tbody>\n",
       "</table>\n",
       "</div>"
      ],
      "text/plain": [
       "    PREGNANCIES  GLUCOSE  BLOODPRESSURE  SKINTHICKNESS  INSULIN    BMI  DIABETESPEDIGREEFUNCTION  AGE  OUTCOME  NEW_AGE_CAT     NEW_BMI  NEW_GLUCOSE NEW_AGE_BMI_NOM  \\\n",
       "0             6  148.000         72.000         35.000  125.000 33.600                     0.627   50        1            1       Obese  Prediabetes     obesesenior   \n",
       "1             1   85.000         66.000         29.000  125.000 26.600                     0.351   31        0            0  Overweight       Normal     obesemature   \n",
       "2             8  183.000         64.000         29.000  125.000 23.300                     0.672   32        1            0     Healthy  Prediabetes     obesemature   \n",
       "3             1   89.000         66.000         23.000   94.000 28.100                     0.167   21        0            0  Overweight       Normal     obesemature   \n",
       "4             0  137.000         40.000         35.000  168.000 43.100                     2.288   33        1            0       Obese       Normal     obesemature   \n",
       "5             5  116.000         74.000         29.000  125.000 25.600                     0.201   30        0            0  Overweight       Normal     obesemature   \n",
       "6             3   78.000         50.000         32.000   88.000 31.000                     0.248   26        1            0       Obese       Normal     obesemature   \n",
       "7            10  115.000         72.000         29.000  125.000 35.300                     0.134   29        0            0       Obese       Normal     obesemature   \n",
       "8             2  197.000         70.000         45.000  543.000 30.500                     0.158   53        1            1       Obese  Prediabetes     obesesenior   \n",
       "9             8  125.000         96.000         29.000  125.000 32.300                     0.232   54        1            1       Obese       Normal     obesesenior   \n",
       "10            4  110.000         92.000         29.000  125.000 37.600                     0.191   30        0            0       Obese       Normal     obesemature   \n",
       "\n",
       "   NEW_AGE_GLUCOSE_NOM  NEW_INSULIN_SCORE  NEW_GLUCOSE*INSULIN  NEW_GLUCOSE*PREGNANCIES  \n",
       "0           highsenior                  1            18500.000                  888.000  \n",
       "1         normalmature                  1            10625.000                   85.000  \n",
       "2           highmature                  1            22875.000                 1464.000  \n",
       "3         normalmature                  1             8366.000                   89.000  \n",
       "4           highmature                  0            23016.000                    0.000  \n",
       "5         hiddenmature                  1            14500.000                  580.000  \n",
       "6         normalmature                  1             6864.000                  234.000  \n",
       "7         hiddenmature                  1            14375.000                 1150.000  \n",
       "8           highsenior                  0           106971.000                  394.000  \n",
       "9         hiddensenior                  1            15625.000                 1000.000  \n",
       "10        hiddenmature                  1            13750.000                  440.000  "
      ]
     },
     "execution_count": 50,
     "metadata": {},
     "output_type": "execute_result"
    }
   ],
   "source": [
    "df.head(11)"
   ]
  },
  {
   "cell_type": "code",
   "execution_count": 51,
   "id": "08a9999f",
   "metadata": {},
   "outputs": [
    {
     "data": {
      "text/plain": [
       "['NEW_AGE_BMI_NOM', 'NEW_AGE_GLUCOSE_NOM', 'NEW_BMI', 'NEW_GLUCOSE']"
      ]
     },
     "execution_count": 51,
     "metadata": {},
     "output_type": "execute_result"
    }
   ],
   "source": [
    "# One-Hot Encoding İşlemi\n",
    "# cat_cols listesinin güncelleme işlemi\n",
    "cat_cols = [col for col in cat_cols if col not in binary_cols and col not in [\"OUTCOME\"]]\n",
    "cat_cols"
   ]
  },
  {
   "cell_type": "code",
   "execution_count": 52,
   "id": "cb0ea959",
   "metadata": {},
   "outputs": [],
   "source": [
    "def one_hot_encoder(dataframe, categorical_cols, drop_first=False):\n",
    "    dataframe = pd.get_dummies(dataframe, columns=categorical_cols, drop_first=drop_first)\n",
    "    return dataframe"
   ]
  },
  {
   "cell_type": "code",
   "execution_count": 53,
   "id": "d98ce608",
   "metadata": {},
   "outputs": [],
   "source": [
    "df = one_hot_encoder(df, cat_cols, drop_first=True)"
   ]
  },
  {
   "cell_type": "code",
   "execution_count": 54,
   "id": "8750510d",
   "metadata": {},
   "outputs": [
    {
     "data": {
      "text/plain": [
       "(768, 27)"
      ]
     },
     "execution_count": 54,
     "metadata": {},
     "output_type": "execute_result"
    }
   ],
   "source": [
    "df.shape"
   ]
  },
  {
   "cell_type": "code",
   "execution_count": 55,
   "id": "05867829",
   "metadata": {},
   "outputs": [
    {
     "data": {
      "text/html": [
       "<div>\n",
       "<style scoped>\n",
       "    .dataframe tbody tr th:only-of-type {\n",
       "        vertical-align: middle;\n",
       "    }\n",
       "\n",
       "    .dataframe tbody tr th {\n",
       "        vertical-align: top;\n",
       "    }\n",
       "\n",
       "    .dataframe thead th {\n",
       "        text-align: right;\n",
       "    }\n",
       "</style>\n",
       "<table border=\"1\" class=\"dataframe\">\n",
       "  <thead>\n",
       "    <tr style=\"text-align: right;\">\n",
       "      <th></th>\n",
       "      <th>PREGNANCIES</th>\n",
       "      <th>GLUCOSE</th>\n",
       "      <th>BLOODPRESSURE</th>\n",
       "      <th>SKINTHICKNESS</th>\n",
       "      <th>INSULIN</th>\n",
       "      <th>BMI</th>\n",
       "      <th>DIABETESPEDIGREEFUNCTION</th>\n",
       "      <th>AGE</th>\n",
       "      <th>OUTCOME</th>\n",
       "      <th>NEW_AGE_CAT</th>\n",
       "      <th>NEW_INSULIN_SCORE</th>\n",
       "      <th>NEW_GLUCOSE*INSULIN</th>\n",
       "      <th>NEW_GLUCOSE*PREGNANCIES</th>\n",
       "      <th>NEW_AGE_BMI_NOM_obesesenior</th>\n",
       "      <th>NEW_AGE_BMI_NOM_underweightmature</th>\n",
       "      <th>NEW_AGE_GLUCOSE_NOM_hiddensenior</th>\n",
       "      <th>NEW_AGE_GLUCOSE_NOM_highmature</th>\n",
       "      <th>NEW_AGE_GLUCOSE_NOM_highsenior</th>\n",
       "      <th>NEW_AGE_GLUCOSE_NOM_lowmature</th>\n",
       "      <th>NEW_AGE_GLUCOSE_NOM_lowsenior</th>\n",
       "      <th>NEW_AGE_GLUCOSE_NOM_normalmature</th>\n",
       "      <th>NEW_AGE_GLUCOSE_NOM_normalsenior</th>\n",
       "      <th>NEW_BMI_Healthy</th>\n",
       "      <th>NEW_BMI_Overweight</th>\n",
       "      <th>NEW_BMI_Obese</th>\n",
       "      <th>NEW_GLUCOSE_Prediabetes</th>\n",
       "      <th>NEW_GLUCOSE_Diabetes</th>\n",
       "    </tr>\n",
       "  </thead>\n",
       "  <tbody>\n",
       "    <tr>\n",
       "      <th>0</th>\n",
       "      <td>6</td>\n",
       "      <td>148.000</td>\n",
       "      <td>72.000</td>\n",
       "      <td>35.000</td>\n",
       "      <td>125.000</td>\n",
       "      <td>33.600</td>\n",
       "      <td>0.627</td>\n",
       "      <td>50</td>\n",
       "      <td>1</td>\n",
       "      <td>1</td>\n",
       "      <td>1</td>\n",
       "      <td>18500.000</td>\n",
       "      <td>888.000</td>\n",
       "      <td>1</td>\n",
       "      <td>0</td>\n",
       "      <td>0</td>\n",
       "      <td>0</td>\n",
       "      <td>1</td>\n",
       "      <td>0</td>\n",
       "      <td>0</td>\n",
       "      <td>0</td>\n",
       "      <td>0</td>\n",
       "      <td>0</td>\n",
       "      <td>0</td>\n",
       "      <td>1</td>\n",
       "      <td>1</td>\n",
       "      <td>0</td>\n",
       "    </tr>\n",
       "    <tr>\n",
       "      <th>1</th>\n",
       "      <td>1</td>\n",
       "      <td>85.000</td>\n",
       "      <td>66.000</td>\n",
       "      <td>29.000</td>\n",
       "      <td>125.000</td>\n",
       "      <td>26.600</td>\n",
       "      <td>0.351</td>\n",
       "      <td>31</td>\n",
       "      <td>0</td>\n",
       "      <td>0</td>\n",
       "      <td>1</td>\n",
       "      <td>10625.000</td>\n",
       "      <td>85.000</td>\n",
       "      <td>0</td>\n",
       "      <td>0</td>\n",
       "      <td>0</td>\n",
       "      <td>0</td>\n",
       "      <td>0</td>\n",
       "      <td>0</td>\n",
       "      <td>0</td>\n",
       "      <td>1</td>\n",
       "      <td>0</td>\n",
       "      <td>0</td>\n",
       "      <td>1</td>\n",
       "      <td>0</td>\n",
       "      <td>0</td>\n",
       "      <td>0</td>\n",
       "    </tr>\n",
       "    <tr>\n",
       "      <th>2</th>\n",
       "      <td>8</td>\n",
       "      <td>183.000</td>\n",
       "      <td>64.000</td>\n",
       "      <td>29.000</td>\n",
       "      <td>125.000</td>\n",
       "      <td>23.300</td>\n",
       "      <td>0.672</td>\n",
       "      <td>32</td>\n",
       "      <td>1</td>\n",
       "      <td>0</td>\n",
       "      <td>1</td>\n",
       "      <td>22875.000</td>\n",
       "      <td>1464.000</td>\n",
       "      <td>0</td>\n",
       "      <td>0</td>\n",
       "      <td>0</td>\n",
       "      <td>1</td>\n",
       "      <td>0</td>\n",
       "      <td>0</td>\n",
       "      <td>0</td>\n",
       "      <td>0</td>\n",
       "      <td>0</td>\n",
       "      <td>1</td>\n",
       "      <td>0</td>\n",
       "      <td>0</td>\n",
       "      <td>1</td>\n",
       "      <td>0</td>\n",
       "    </tr>\n",
       "    <tr>\n",
       "      <th>3</th>\n",
       "      <td>1</td>\n",
       "      <td>89.000</td>\n",
       "      <td>66.000</td>\n",
       "      <td>23.000</td>\n",
       "      <td>94.000</td>\n",
       "      <td>28.100</td>\n",
       "      <td>0.167</td>\n",
       "      <td>21</td>\n",
       "      <td>0</td>\n",
       "      <td>0</td>\n",
       "      <td>1</td>\n",
       "      <td>8366.000</td>\n",
       "      <td>89.000</td>\n",
       "      <td>0</td>\n",
       "      <td>0</td>\n",
       "      <td>0</td>\n",
       "      <td>0</td>\n",
       "      <td>0</td>\n",
       "      <td>0</td>\n",
       "      <td>0</td>\n",
       "      <td>1</td>\n",
       "      <td>0</td>\n",
       "      <td>0</td>\n",
       "      <td>1</td>\n",
       "      <td>0</td>\n",
       "      <td>0</td>\n",
       "      <td>0</td>\n",
       "    </tr>\n",
       "    <tr>\n",
       "      <th>4</th>\n",
       "      <td>0</td>\n",
       "      <td>137.000</td>\n",
       "      <td>40.000</td>\n",
       "      <td>35.000</td>\n",
       "      <td>168.000</td>\n",
       "      <td>43.100</td>\n",
       "      <td>2.288</td>\n",
       "      <td>33</td>\n",
       "      <td>1</td>\n",
       "      <td>0</td>\n",
       "      <td>0</td>\n",
       "      <td>23016.000</td>\n",
       "      <td>0.000</td>\n",
       "      <td>0</td>\n",
       "      <td>0</td>\n",
       "      <td>0</td>\n",
       "      <td>1</td>\n",
       "      <td>0</td>\n",
       "      <td>0</td>\n",
       "      <td>0</td>\n",
       "      <td>0</td>\n",
       "      <td>0</td>\n",
       "      <td>0</td>\n",
       "      <td>0</td>\n",
       "      <td>1</td>\n",
       "      <td>0</td>\n",
       "      <td>0</td>\n",
       "    </tr>\n",
       "    <tr>\n",
       "      <th>5</th>\n",
       "      <td>5</td>\n",
       "      <td>116.000</td>\n",
       "      <td>74.000</td>\n",
       "      <td>29.000</td>\n",
       "      <td>125.000</td>\n",
       "      <td>25.600</td>\n",
       "      <td>0.201</td>\n",
       "      <td>30</td>\n",
       "      <td>0</td>\n",
       "      <td>0</td>\n",
       "      <td>1</td>\n",
       "      <td>14500.000</td>\n",
       "      <td>580.000</td>\n",
       "      <td>0</td>\n",
       "      <td>0</td>\n",
       "      <td>0</td>\n",
       "      <td>0</td>\n",
       "      <td>0</td>\n",
       "      <td>0</td>\n",
       "      <td>0</td>\n",
       "      <td>0</td>\n",
       "      <td>0</td>\n",
       "      <td>0</td>\n",
       "      <td>1</td>\n",
       "      <td>0</td>\n",
       "      <td>0</td>\n",
       "      <td>0</td>\n",
       "    </tr>\n",
       "    <tr>\n",
       "      <th>6</th>\n",
       "      <td>3</td>\n",
       "      <td>78.000</td>\n",
       "      <td>50.000</td>\n",
       "      <td>32.000</td>\n",
       "      <td>88.000</td>\n",
       "      <td>31.000</td>\n",
       "      <td>0.248</td>\n",
       "      <td>26</td>\n",
       "      <td>1</td>\n",
       "      <td>0</td>\n",
       "      <td>1</td>\n",
       "      <td>6864.000</td>\n",
       "      <td>234.000</td>\n",
       "      <td>0</td>\n",
       "      <td>0</td>\n",
       "      <td>0</td>\n",
       "      <td>0</td>\n",
       "      <td>0</td>\n",
       "      <td>0</td>\n",
       "      <td>0</td>\n",
       "      <td>1</td>\n",
       "      <td>0</td>\n",
       "      <td>0</td>\n",
       "      <td>0</td>\n",
       "      <td>1</td>\n",
       "      <td>0</td>\n",
       "      <td>0</td>\n",
       "    </tr>\n",
       "    <tr>\n",
       "      <th>7</th>\n",
       "      <td>10</td>\n",
       "      <td>115.000</td>\n",
       "      <td>72.000</td>\n",
       "      <td>29.000</td>\n",
       "      <td>125.000</td>\n",
       "      <td>35.300</td>\n",
       "      <td>0.134</td>\n",
       "      <td>29</td>\n",
       "      <td>0</td>\n",
       "      <td>0</td>\n",
       "      <td>1</td>\n",
       "      <td>14375.000</td>\n",
       "      <td>1150.000</td>\n",
       "      <td>0</td>\n",
       "      <td>0</td>\n",
       "      <td>0</td>\n",
       "      <td>0</td>\n",
       "      <td>0</td>\n",
       "      <td>0</td>\n",
       "      <td>0</td>\n",
       "      <td>0</td>\n",
       "      <td>0</td>\n",
       "      <td>0</td>\n",
       "      <td>0</td>\n",
       "      <td>1</td>\n",
       "      <td>0</td>\n",
       "      <td>0</td>\n",
       "    </tr>\n",
       "    <tr>\n",
       "      <th>8</th>\n",
       "      <td>2</td>\n",
       "      <td>197.000</td>\n",
       "      <td>70.000</td>\n",
       "      <td>45.000</td>\n",
       "      <td>543.000</td>\n",
       "      <td>30.500</td>\n",
       "      <td>0.158</td>\n",
       "      <td>53</td>\n",
       "      <td>1</td>\n",
       "      <td>1</td>\n",
       "      <td>0</td>\n",
       "      <td>106971.000</td>\n",
       "      <td>394.000</td>\n",
       "      <td>1</td>\n",
       "      <td>0</td>\n",
       "      <td>0</td>\n",
       "      <td>0</td>\n",
       "      <td>1</td>\n",
       "      <td>0</td>\n",
       "      <td>0</td>\n",
       "      <td>0</td>\n",
       "      <td>0</td>\n",
       "      <td>0</td>\n",
       "      <td>0</td>\n",
       "      <td>1</td>\n",
       "      <td>1</td>\n",
       "      <td>0</td>\n",
       "    </tr>\n",
       "    <tr>\n",
       "      <th>9</th>\n",
       "      <td>8</td>\n",
       "      <td>125.000</td>\n",
       "      <td>96.000</td>\n",
       "      <td>29.000</td>\n",
       "      <td>125.000</td>\n",
       "      <td>32.300</td>\n",
       "      <td>0.232</td>\n",
       "      <td>54</td>\n",
       "      <td>1</td>\n",
       "      <td>1</td>\n",
       "      <td>1</td>\n",
       "      <td>15625.000</td>\n",
       "      <td>1000.000</td>\n",
       "      <td>1</td>\n",
       "      <td>0</td>\n",
       "      <td>1</td>\n",
       "      <td>0</td>\n",
       "      <td>0</td>\n",
       "      <td>0</td>\n",
       "      <td>0</td>\n",
       "      <td>0</td>\n",
       "      <td>0</td>\n",
       "      <td>0</td>\n",
       "      <td>0</td>\n",
       "      <td>1</td>\n",
       "      <td>0</td>\n",
       "      <td>0</td>\n",
       "    </tr>\n",
       "    <tr>\n",
       "      <th>10</th>\n",
       "      <td>4</td>\n",
       "      <td>110.000</td>\n",
       "      <td>92.000</td>\n",
       "      <td>29.000</td>\n",
       "      <td>125.000</td>\n",
       "      <td>37.600</td>\n",
       "      <td>0.191</td>\n",
       "      <td>30</td>\n",
       "      <td>0</td>\n",
       "      <td>0</td>\n",
       "      <td>1</td>\n",
       "      <td>13750.000</td>\n",
       "      <td>440.000</td>\n",
       "      <td>0</td>\n",
       "      <td>0</td>\n",
       "      <td>0</td>\n",
       "      <td>0</td>\n",
       "      <td>0</td>\n",
       "      <td>0</td>\n",
       "      <td>0</td>\n",
       "      <td>0</td>\n",
       "      <td>0</td>\n",
       "      <td>0</td>\n",
       "      <td>0</td>\n",
       "      <td>1</td>\n",
       "      <td>0</td>\n",
       "      <td>0</td>\n",
       "    </tr>\n",
       "  </tbody>\n",
       "</table>\n",
       "</div>"
      ],
      "text/plain": [
       "    PREGNANCIES  GLUCOSE  BLOODPRESSURE  SKINTHICKNESS  INSULIN    BMI  DIABETESPEDIGREEFUNCTION  AGE  OUTCOME  NEW_AGE_CAT  NEW_INSULIN_SCORE  NEW_GLUCOSE*INSULIN  \\\n",
       "0             6  148.000         72.000         35.000  125.000 33.600                     0.627   50        1            1                  1            18500.000   \n",
       "1             1   85.000         66.000         29.000  125.000 26.600                     0.351   31        0            0                  1            10625.000   \n",
       "2             8  183.000         64.000         29.000  125.000 23.300                     0.672   32        1            0                  1            22875.000   \n",
       "3             1   89.000         66.000         23.000   94.000 28.100                     0.167   21        0            0                  1             8366.000   \n",
       "4             0  137.000         40.000         35.000  168.000 43.100                     2.288   33        1            0                  0            23016.000   \n",
       "5             5  116.000         74.000         29.000  125.000 25.600                     0.201   30        0            0                  1            14500.000   \n",
       "6             3   78.000         50.000         32.000   88.000 31.000                     0.248   26        1            0                  1             6864.000   \n",
       "7            10  115.000         72.000         29.000  125.000 35.300                     0.134   29        0            0                  1            14375.000   \n",
       "8             2  197.000         70.000         45.000  543.000 30.500                     0.158   53        1            1                  0           106971.000   \n",
       "9             8  125.000         96.000         29.000  125.000 32.300                     0.232   54        1            1                  1            15625.000   \n",
       "10            4  110.000         92.000         29.000  125.000 37.600                     0.191   30        0            0                  1            13750.000   \n",
       "\n",
       "    NEW_GLUCOSE*PREGNANCIES  NEW_AGE_BMI_NOM_obesesenior  NEW_AGE_BMI_NOM_underweightmature  NEW_AGE_GLUCOSE_NOM_hiddensenior  NEW_AGE_GLUCOSE_NOM_highmature  \\\n",
       "0                   888.000                            1                                  0                                 0                               0   \n",
       "1                    85.000                            0                                  0                                 0                               0   \n",
       "2                  1464.000                            0                                  0                                 0                               1   \n",
       "3                    89.000                            0                                  0                                 0                               0   \n",
       "4                     0.000                            0                                  0                                 0                               1   \n",
       "5                   580.000                            0                                  0                                 0                               0   \n",
       "6                   234.000                            0                                  0                                 0                               0   \n",
       "7                  1150.000                            0                                  0                                 0                               0   \n",
       "8                   394.000                            1                                  0                                 0                               0   \n",
       "9                  1000.000                            1                                  0                                 1                               0   \n",
       "10                  440.000                            0                                  0                                 0                               0   \n",
       "\n",
       "    NEW_AGE_GLUCOSE_NOM_highsenior  NEW_AGE_GLUCOSE_NOM_lowmature  NEW_AGE_GLUCOSE_NOM_lowsenior  NEW_AGE_GLUCOSE_NOM_normalmature  NEW_AGE_GLUCOSE_NOM_normalsenior  \\\n",
       "0                                1                              0                              0                                 0                                 0   \n",
       "1                                0                              0                              0                                 1                                 0   \n",
       "2                                0                              0                              0                                 0                                 0   \n",
       "3                                0                              0                              0                                 1                                 0   \n",
       "4                                0                              0                              0                                 0                                 0   \n",
       "5                                0                              0                              0                                 0                                 0   \n",
       "6                                0                              0                              0                                 1                                 0   \n",
       "7                                0                              0                              0                                 0                                 0   \n",
       "8                                1                              0                              0                                 0                                 0   \n",
       "9                                0                              0                              0                                 0                                 0   \n",
       "10                               0                              0                              0                                 0                                 0   \n",
       "\n",
       "    NEW_BMI_Healthy  NEW_BMI_Overweight  NEW_BMI_Obese  NEW_GLUCOSE_Prediabetes  NEW_GLUCOSE_Diabetes  \n",
       "0                 0                   0              1                        1                     0  \n",
       "1                 0                   1              0                        0                     0  \n",
       "2                 1                   0              0                        1                     0  \n",
       "3                 0                   1              0                        0                     0  \n",
       "4                 0                   0              1                        0                     0  \n",
       "5                 0                   1              0                        0                     0  \n",
       "6                 0                   0              1                        0                     0  \n",
       "7                 0                   0              1                        0                     0  \n",
       "8                 0                   0              1                        1                     0  \n",
       "9                 0                   0              1                        0                     0  \n",
       "10                0                   0              1                        0                     0  "
      ]
     },
     "execution_count": 55,
     "metadata": {},
     "output_type": "execute_result"
    }
   ],
   "source": [
    "df.head(11)"
   ]
  },
  {
   "cell_type": "code",
   "execution_count": 56,
   "id": "5066dc9a",
   "metadata": {},
   "outputs": [
    {
     "data": {
      "text/plain": [
       "['PREGNANCIES',\n",
       " 'GLUCOSE',\n",
       " 'BLOODPRESSURE',\n",
       " 'SKINTHICKNESS',\n",
       " 'INSULIN',\n",
       " 'BMI',\n",
       " 'DIABETESPEDIGREEFUNCTION',\n",
       " 'AGE',\n",
       " 'NEW_GLUCOSE*INSULIN',\n",
       " 'NEW_GLUCOSE*PREGNANCIES']"
      ]
     },
     "execution_count": 56,
     "metadata": {},
     "output_type": "execute_result"
    }
   ],
   "source": [
    "# Standartlaştırma\n",
    "num_cols"
   ]
  },
  {
   "cell_type": "code",
   "execution_count": 57,
   "id": "5c714e7b",
   "metadata": {},
   "outputs": [],
   "source": [
    "scaler = StandardScaler()\n",
    "df[num_cols] = scaler.fit_transform(df[num_cols])"
   ]
  },
  {
   "cell_type": "code",
   "execution_count": 58,
   "id": "a3bcb07b",
   "metadata": {},
   "outputs": [
    {
     "data": {
      "text/html": [
       "<div>\n",
       "<style scoped>\n",
       "    .dataframe tbody tr th:only-of-type {\n",
       "        vertical-align: middle;\n",
       "    }\n",
       "\n",
       "    .dataframe tbody tr th {\n",
       "        vertical-align: top;\n",
       "    }\n",
       "\n",
       "    .dataframe thead th {\n",
       "        text-align: right;\n",
       "    }\n",
       "</style>\n",
       "<table border=\"1\" class=\"dataframe\">\n",
       "  <thead>\n",
       "    <tr style=\"text-align: right;\">\n",
       "      <th></th>\n",
       "      <th>PREGNANCIES</th>\n",
       "      <th>GLUCOSE</th>\n",
       "      <th>BLOODPRESSURE</th>\n",
       "      <th>SKINTHICKNESS</th>\n",
       "      <th>INSULIN</th>\n",
       "      <th>BMI</th>\n",
       "      <th>DIABETESPEDIGREEFUNCTION</th>\n",
       "      <th>AGE</th>\n",
       "      <th>OUTCOME</th>\n",
       "      <th>NEW_AGE_CAT</th>\n",
       "      <th>NEW_INSULIN_SCORE</th>\n",
       "      <th>NEW_GLUCOSE*INSULIN</th>\n",
       "      <th>NEW_GLUCOSE*PREGNANCIES</th>\n",
       "      <th>NEW_AGE_BMI_NOM_obesesenior</th>\n",
       "      <th>NEW_AGE_BMI_NOM_underweightmature</th>\n",
       "      <th>NEW_AGE_GLUCOSE_NOM_hiddensenior</th>\n",
       "      <th>NEW_AGE_GLUCOSE_NOM_highmature</th>\n",
       "      <th>NEW_AGE_GLUCOSE_NOM_highsenior</th>\n",
       "      <th>NEW_AGE_GLUCOSE_NOM_lowmature</th>\n",
       "      <th>NEW_AGE_GLUCOSE_NOM_lowsenior</th>\n",
       "      <th>NEW_AGE_GLUCOSE_NOM_normalmature</th>\n",
       "      <th>NEW_AGE_GLUCOSE_NOM_normalsenior</th>\n",
       "      <th>NEW_BMI_Healthy</th>\n",
       "      <th>NEW_BMI_Overweight</th>\n",
       "      <th>NEW_BMI_Obese</th>\n",
       "      <th>NEW_GLUCOSE_Prediabetes</th>\n",
       "      <th>NEW_GLUCOSE_Diabetes</th>\n",
       "    </tr>\n",
       "  </thead>\n",
       "  <tbody>\n",
       "    <tr>\n",
       "      <th>0</th>\n",
       "      <td>0.640</td>\n",
       "      <td>0.866</td>\n",
       "      <td>-0.032</td>\n",
       "      <td>0.680</td>\n",
       "      <td>-0.183</td>\n",
       "      <td>0.167</td>\n",
       "      <td>0.468</td>\n",
       "      <td>1.426</td>\n",
       "      <td>1</td>\n",
       "      <td>1</td>\n",
       "      <td>1</td>\n",
       "      <td>0.024</td>\n",
       "      <td>0.882</td>\n",
       "      <td>1</td>\n",
       "      <td>0</td>\n",
       "      <td>0</td>\n",
       "      <td>0</td>\n",
       "      <td>1</td>\n",
       "      <td>0</td>\n",
       "      <td>0</td>\n",
       "      <td>0</td>\n",
       "      <td>0</td>\n",
       "      <td>0</td>\n",
       "      <td>0</td>\n",
       "      <td>1</td>\n",
       "      <td>1</td>\n",
       "      <td>0</td>\n",
       "    </tr>\n",
       "    <tr>\n",
       "      <th>1</th>\n",
       "      <td>-0.845</td>\n",
       "      <td>-1.205</td>\n",
       "      <td>-0.528</td>\n",
       "      <td>-0.011</td>\n",
       "      <td>-0.183</td>\n",
       "      <td>-0.852</td>\n",
       "      <td>-0.365</td>\n",
       "      <td>-0.191</td>\n",
       "      <td>0</td>\n",
       "      <td>0</td>\n",
       "      <td>1</td>\n",
       "      <td>-0.503</td>\n",
       "      <td>-0.858</td>\n",
       "      <td>0</td>\n",
       "      <td>0</td>\n",
       "      <td>0</td>\n",
       "      <td>0</td>\n",
       "      <td>0</td>\n",
       "      <td>0</td>\n",
       "      <td>0</td>\n",
       "      <td>1</td>\n",
       "      <td>0</td>\n",
       "      <td>0</td>\n",
       "      <td>1</td>\n",
       "      <td>0</td>\n",
       "      <td>0</td>\n",
       "      <td>0</td>\n",
       "    </tr>\n",
       "    <tr>\n",
       "      <th>2</th>\n",
       "      <td>1.234</td>\n",
       "      <td>2.017</td>\n",
       "      <td>-0.694</td>\n",
       "      <td>-0.011</td>\n",
       "      <td>-0.183</td>\n",
       "      <td>-1.333</td>\n",
       "      <td>0.604</td>\n",
       "      <td>-0.106</td>\n",
       "      <td>1</td>\n",
       "      <td>0</td>\n",
       "      <td>1</td>\n",
       "      <td>0.317</td>\n",
       "      <td>2.129</td>\n",
       "      <td>0</td>\n",
       "      <td>0</td>\n",
       "      <td>0</td>\n",
       "      <td>1</td>\n",
       "      <td>0</td>\n",
       "      <td>0</td>\n",
       "      <td>0</td>\n",
       "      <td>0</td>\n",
       "      <td>0</td>\n",
       "      <td>1</td>\n",
       "      <td>0</td>\n",
       "      <td>0</td>\n",
       "      <td>1</td>\n",
       "      <td>0</td>\n",
       "    </tr>\n",
       "    <tr>\n",
       "      <th>3</th>\n",
       "      <td>-0.845</td>\n",
       "      <td>-1.074</td>\n",
       "      <td>-0.528</td>\n",
       "      <td>-0.702</td>\n",
       "      <td>-0.553</td>\n",
       "      <td>-0.634</td>\n",
       "      <td>-0.921</td>\n",
       "      <td>-1.042</td>\n",
       "      <td>0</td>\n",
       "      <td>0</td>\n",
       "      <td>1</td>\n",
       "      <td>-0.654</td>\n",
       "      <td>-0.849</td>\n",
       "      <td>0</td>\n",
       "      <td>0</td>\n",
       "      <td>0</td>\n",
       "      <td>0</td>\n",
       "      <td>0</td>\n",
       "      <td>0</td>\n",
       "      <td>0</td>\n",
       "      <td>1</td>\n",
       "      <td>0</td>\n",
       "      <td>0</td>\n",
       "      <td>1</td>\n",
       "      <td>0</td>\n",
       "      <td>0</td>\n",
       "      <td>0</td>\n",
       "    </tr>\n",
       "    <tr>\n",
       "      <th>4</th>\n",
       "      <td>-1.142</td>\n",
       "      <td>0.504</td>\n",
       "      <td>-2.679</td>\n",
       "      <td>0.680</td>\n",
       "      <td>0.331</td>\n",
       "      <td>1.549</td>\n",
       "      <td>5.485</td>\n",
       "      <td>-0.020</td>\n",
       "      <td>1</td>\n",
       "      <td>0</td>\n",
       "      <td>0</td>\n",
       "      <td>0.326</td>\n",
       "      <td>-1.042</td>\n",
       "      <td>0</td>\n",
       "      <td>0</td>\n",
       "      <td>0</td>\n",
       "      <td>1</td>\n",
       "      <td>0</td>\n",
       "      <td>0</td>\n",
       "      <td>0</td>\n",
       "      <td>0</td>\n",
       "      <td>0</td>\n",
       "      <td>0</td>\n",
       "      <td>0</td>\n",
       "      <td>1</td>\n",
       "      <td>0</td>\n",
       "      <td>0</td>\n",
       "    </tr>\n",
       "    <tr>\n",
       "      <th>5</th>\n",
       "      <td>0.343</td>\n",
       "      <td>-0.186</td>\n",
       "      <td>0.133</td>\n",
       "      <td>-0.011</td>\n",
       "      <td>-0.183</td>\n",
       "      <td>-0.998</td>\n",
       "      <td>-0.818</td>\n",
       "      <td>-0.276</td>\n",
       "      <td>0</td>\n",
       "      <td>0</td>\n",
       "      <td>1</td>\n",
       "      <td>-0.244</td>\n",
       "      <td>0.215</td>\n",
       "      <td>0</td>\n",
       "      <td>0</td>\n",
       "      <td>0</td>\n",
       "      <td>0</td>\n",
       "      <td>0</td>\n",
       "      <td>0</td>\n",
       "      <td>0</td>\n",
       "      <td>0</td>\n",
       "      <td>0</td>\n",
       "      <td>0</td>\n",
       "      <td>1</td>\n",
       "      <td>0</td>\n",
       "      <td>0</td>\n",
       "      <td>0</td>\n",
       "    </tr>\n",
       "    <tr>\n",
       "      <th>6</th>\n",
       "      <td>-0.251</td>\n",
       "      <td>-1.435</td>\n",
       "      <td>-1.852</td>\n",
       "      <td>0.335</td>\n",
       "      <td>-0.625</td>\n",
       "      <td>-0.212</td>\n",
       "      <td>-0.676</td>\n",
       "      <td>-0.616</td>\n",
       "      <td>1</td>\n",
       "      <td>0</td>\n",
       "      <td>1</td>\n",
       "      <td>-0.754</td>\n",
       "      <td>-0.535</td>\n",
       "      <td>0</td>\n",
       "      <td>0</td>\n",
       "      <td>0</td>\n",
       "      <td>0</td>\n",
       "      <td>0</td>\n",
       "      <td>0</td>\n",
       "      <td>0</td>\n",
       "      <td>1</td>\n",
       "      <td>0</td>\n",
       "      <td>0</td>\n",
       "      <td>0</td>\n",
       "      <td>1</td>\n",
       "      <td>0</td>\n",
       "      <td>0</td>\n",
       "    </tr>\n",
       "    <tr>\n",
       "      <th>7</th>\n",
       "      <td>1.828</td>\n",
       "      <td>-0.219</td>\n",
       "      <td>-0.032</td>\n",
       "      <td>-0.011</td>\n",
       "      <td>-0.183</td>\n",
       "      <td>0.414</td>\n",
       "      <td>-1.020</td>\n",
       "      <td>-0.361</td>\n",
       "      <td>0</td>\n",
       "      <td>0</td>\n",
       "      <td>1</td>\n",
       "      <td>-0.252</td>\n",
       "      <td>1.449</td>\n",
       "      <td>0</td>\n",
       "      <td>0</td>\n",
       "      <td>0</td>\n",
       "      <td>0</td>\n",
       "      <td>0</td>\n",
       "      <td>0</td>\n",
       "      <td>0</td>\n",
       "      <td>0</td>\n",
       "      <td>0</td>\n",
       "      <td>0</td>\n",
       "      <td>0</td>\n",
       "      <td>1</td>\n",
       "      <td>0</td>\n",
       "      <td>0</td>\n",
       "    </tr>\n",
       "    <tr>\n",
       "      <th>8</th>\n",
       "      <td>-0.548</td>\n",
       "      <td>2.477</td>\n",
       "      <td>-0.197</td>\n",
       "      <td>1.832</td>\n",
       "      <td>4.815</td>\n",
       "      <td>-0.285</td>\n",
       "      <td>-0.948</td>\n",
       "      <td>1.681</td>\n",
       "      <td>1</td>\n",
       "      <td>1</td>\n",
       "      <td>0</td>\n",
       "      <td>5.941</td>\n",
       "      <td>-0.188</td>\n",
       "      <td>1</td>\n",
       "      <td>0</td>\n",
       "      <td>0</td>\n",
       "      <td>0</td>\n",
       "      <td>1</td>\n",
       "      <td>0</td>\n",
       "      <td>0</td>\n",
       "      <td>0</td>\n",
       "      <td>0</td>\n",
       "      <td>0</td>\n",
       "      <td>0</td>\n",
       "      <td>1</td>\n",
       "      <td>1</td>\n",
       "      <td>0</td>\n",
       "    </tr>\n",
       "    <tr>\n",
       "      <th>9</th>\n",
       "      <td>1.234</td>\n",
       "      <td>0.110</td>\n",
       "      <td>1.953</td>\n",
       "      <td>-0.011</td>\n",
       "      <td>-0.183</td>\n",
       "      <td>-0.023</td>\n",
       "      <td>-0.724</td>\n",
       "      <td>1.766</td>\n",
       "      <td>1</td>\n",
       "      <td>1</td>\n",
       "      <td>1</td>\n",
       "      <td>-0.168</td>\n",
       "      <td>1.124</td>\n",
       "      <td>1</td>\n",
       "      <td>0</td>\n",
       "      <td>1</td>\n",
       "      <td>0</td>\n",
       "      <td>0</td>\n",
       "      <td>0</td>\n",
       "      <td>0</td>\n",
       "      <td>0</td>\n",
       "      <td>0</td>\n",
       "      <td>0</td>\n",
       "      <td>0</td>\n",
       "      <td>1</td>\n",
       "      <td>0</td>\n",
       "      <td>0</td>\n",
       "    </tr>\n",
       "    <tr>\n",
       "      <th>10</th>\n",
       "      <td>0.046</td>\n",
       "      <td>-0.383</td>\n",
       "      <td>1.622</td>\n",
       "      <td>-0.011</td>\n",
       "      <td>-0.183</td>\n",
       "      <td>0.749</td>\n",
       "      <td>-0.848</td>\n",
       "      <td>-0.276</td>\n",
       "      <td>0</td>\n",
       "      <td>0</td>\n",
       "      <td>1</td>\n",
       "      <td>-0.294</td>\n",
       "      <td>-0.089</td>\n",
       "      <td>0</td>\n",
       "      <td>0</td>\n",
       "      <td>0</td>\n",
       "      <td>0</td>\n",
       "      <td>0</td>\n",
       "      <td>0</td>\n",
       "      <td>0</td>\n",
       "      <td>0</td>\n",
       "      <td>0</td>\n",
       "      <td>0</td>\n",
       "      <td>0</td>\n",
       "      <td>1</td>\n",
       "      <td>0</td>\n",
       "      <td>0</td>\n",
       "    </tr>\n",
       "  </tbody>\n",
       "</table>\n",
       "</div>"
      ],
      "text/plain": [
       "    PREGNANCIES  GLUCOSE  BLOODPRESSURE  SKINTHICKNESS  INSULIN    BMI  DIABETESPEDIGREEFUNCTION    AGE  OUTCOME  NEW_AGE_CAT  NEW_INSULIN_SCORE  NEW_GLUCOSE*INSULIN  \\\n",
       "0         0.640    0.866         -0.032          0.680   -0.183  0.167                     0.468  1.426        1            1                  1                0.024   \n",
       "1        -0.845   -1.205         -0.528         -0.011   -0.183 -0.852                    -0.365 -0.191        0            0                  1               -0.503   \n",
       "2         1.234    2.017         -0.694         -0.011   -0.183 -1.333                     0.604 -0.106        1            0                  1                0.317   \n",
       "3        -0.845   -1.074         -0.528         -0.702   -0.553 -0.634                    -0.921 -1.042        0            0                  1               -0.654   \n",
       "4        -1.142    0.504         -2.679          0.680    0.331  1.549                     5.485 -0.020        1            0                  0                0.326   \n",
       "5         0.343   -0.186          0.133         -0.011   -0.183 -0.998                    -0.818 -0.276        0            0                  1               -0.244   \n",
       "6        -0.251   -1.435         -1.852          0.335   -0.625 -0.212                    -0.676 -0.616        1            0                  1               -0.754   \n",
       "7         1.828   -0.219         -0.032         -0.011   -0.183  0.414                    -1.020 -0.361        0            0                  1               -0.252   \n",
       "8        -0.548    2.477         -0.197          1.832    4.815 -0.285                    -0.948  1.681        1            1                  0                5.941   \n",
       "9         1.234    0.110          1.953         -0.011   -0.183 -0.023                    -0.724  1.766        1            1                  1               -0.168   \n",
       "10        0.046   -0.383          1.622         -0.011   -0.183  0.749                    -0.848 -0.276        0            0                  1               -0.294   \n",
       "\n",
       "    NEW_GLUCOSE*PREGNANCIES  NEW_AGE_BMI_NOM_obesesenior  NEW_AGE_BMI_NOM_underweightmature  NEW_AGE_GLUCOSE_NOM_hiddensenior  NEW_AGE_GLUCOSE_NOM_highmature  \\\n",
       "0                     0.882                            1                                  0                                 0                               0   \n",
       "1                    -0.858                            0                                  0                                 0                               0   \n",
       "2                     2.129                            0                                  0                                 0                               1   \n",
       "3                    -0.849                            0                                  0                                 0                               0   \n",
       "4                    -1.042                            0                                  0                                 0                               1   \n",
       "5                     0.215                            0                                  0                                 0                               0   \n",
       "6                    -0.535                            0                                  0                                 0                               0   \n",
       "7                     1.449                            0                                  0                                 0                               0   \n",
       "8                    -0.188                            1                                  0                                 0                               0   \n",
       "9                     1.124                            1                                  0                                 1                               0   \n",
       "10                   -0.089                            0                                  0                                 0                               0   \n",
       "\n",
       "    NEW_AGE_GLUCOSE_NOM_highsenior  NEW_AGE_GLUCOSE_NOM_lowmature  NEW_AGE_GLUCOSE_NOM_lowsenior  NEW_AGE_GLUCOSE_NOM_normalmature  NEW_AGE_GLUCOSE_NOM_normalsenior  \\\n",
       "0                                1                              0                              0                                 0                                 0   \n",
       "1                                0                              0                              0                                 1                                 0   \n",
       "2                                0                              0                              0                                 0                                 0   \n",
       "3                                0                              0                              0                                 1                                 0   \n",
       "4                                0                              0                              0                                 0                                 0   \n",
       "5                                0                              0                              0                                 0                                 0   \n",
       "6                                0                              0                              0                                 1                                 0   \n",
       "7                                0                              0                              0                                 0                                 0   \n",
       "8                                1                              0                              0                                 0                                 0   \n",
       "9                                0                              0                              0                                 0                                 0   \n",
       "10                               0                              0                              0                                 0                                 0   \n",
       "\n",
       "    NEW_BMI_Healthy  NEW_BMI_Overweight  NEW_BMI_Obese  NEW_GLUCOSE_Prediabetes  NEW_GLUCOSE_Diabetes  \n",
       "0                 0                   0              1                        1                     0  \n",
       "1                 0                   1              0                        0                     0  \n",
       "2                 1                   0              0                        1                     0  \n",
       "3                 0                   1              0                        0                     0  \n",
       "4                 0                   0              1                        0                     0  \n",
       "5                 0                   1              0                        0                     0  \n",
       "6                 0                   0              1                        0                     0  \n",
       "7                 0                   0              1                        0                     0  \n",
       "8                 0                   0              1                        1                     0  \n",
       "9                 0                   0              1                        0                     0  \n",
       "10                0                   0              1                        0                     0  "
      ]
     },
     "execution_count": 58,
     "metadata": {},
     "output_type": "execute_result"
    }
   ],
   "source": [
    "df.head(11)"
   ]
  },
  {
   "cell_type": "code",
   "execution_count": 59,
   "id": "66b796f5",
   "metadata": {},
   "outputs": [
    {
     "data": {
      "text/plain": [
       "(768, 27)"
      ]
     },
     "execution_count": 59,
     "metadata": {},
     "output_type": "execute_result"
    }
   ],
   "source": [
    "df.shape"
   ]
  },
  {
   "cell_type": "markdown",
   "id": "7a6a0f90",
   "metadata": {},
   "source": [
    "# Model"
   ]
  },
  {
   "cell_type": "code",
   "execution_count": 60,
   "id": "9d92fce1",
   "metadata": {},
   "outputs": [],
   "source": [
    "y = df[\"OUTCOME\"]\n",
    "X = df.drop(\"OUTCOME\", axis=1)\n",
    "X_train, X_test, y_train, y_test = train_test_split(X, y, test_size=0.30, random_state=17)"
   ]
  },
  {
   "cell_type": "code",
   "execution_count": 61,
   "id": "f3ac6264",
   "metadata": {},
   "outputs": [],
   "source": [
    "rf_model = RandomForestClassifier(random_state=46).fit(X_train, y_train)\n",
    "y_pred = rf_model.predict(X_test)"
   ]
  },
  {
   "cell_type": "code",
   "execution_count": 62,
   "id": "39375923",
   "metadata": {},
   "outputs": [
    {
     "data": {
      "text/plain": [
       "'Accuracy: 0.79'"
      ]
     },
     "execution_count": 62,
     "metadata": {},
     "output_type": "execute_result"
    }
   ],
   "source": [
    "f\"Accuracy: {round(accuracy_score(y_pred, y_test), 2)}\""
   ]
  },
  {
   "cell_type": "code",
   "execution_count": 63,
   "id": "addd6db1",
   "metadata": {},
   "outputs": [
    {
     "data": {
      "text/plain": [
       "'Recall: 0.711'"
      ]
     },
     "execution_count": 63,
     "metadata": {},
     "output_type": "execute_result"
    }
   ],
   "source": [
    "f\"Recall: {round(recall_score(y_pred, y_test), 3)}\""
   ]
  },
  {
   "cell_type": "code",
   "execution_count": 64,
   "id": "956dbb21",
   "metadata": {},
   "outputs": [
    {
     "data": {
      "text/plain": [
       "'Precision: 0.67'"
      ]
     },
     "execution_count": 64,
     "metadata": {},
     "output_type": "execute_result"
    }
   ],
   "source": [
    "f\"Precision: {round(precision_score(y_pred, y_test), 2)}\""
   ]
  },
  {
   "cell_type": "code",
   "execution_count": 65,
   "id": "a78ea033",
   "metadata": {},
   "outputs": [
    {
     "data": {
      "text/plain": [
       "'F1: 0.69'"
      ]
     },
     "execution_count": 65,
     "metadata": {},
     "output_type": "execute_result"
    }
   ],
   "source": [
    "f\"F1: {round(f1_score(y_pred, y_test), 2)}\""
   ]
  },
  {
   "cell_type": "code",
   "execution_count": 66,
   "id": "16518275",
   "metadata": {},
   "outputs": [
    {
     "data": {
      "text/plain": [
       "'Auc: 0.77'"
      ]
     },
     "execution_count": 66,
     "metadata": {},
     "output_type": "execute_result"
    }
   ],
   "source": [
    "f\"Auc: {round(roc_auc_score(y_pred, y_test), 2)}\""
   ]
  },
  {
   "cell_type": "markdown",
   "id": "40157b5d",
   "metadata": {},
   "source": [
    "# Feature Importance"
   ]
  },
  {
   "cell_type": "code",
   "execution_count": 67,
   "id": "8a43978c",
   "metadata": {},
   "outputs": [
    {
     "name": "stdout",
     "output_type": "stream",
     "text": [
      "    Value                            Feature\n",
      "1   0.138                            GLUCOSE\n",
      "10  0.131                NEW_GLUCOSE*INSULIN\n",
      "5   0.099                                BMI\n",
      "11  0.098            NEW_GLUCOSE*PREGNANCIES\n",
      "7   0.097                                AGE\n",
      "..    ...                                ...\n",
      "20  0.001   NEW_AGE_GLUCOSE_NOM_normalsenior\n",
      "17  0.000      NEW_AGE_GLUCOSE_NOM_lowmature\n",
      "13  0.000  NEW_AGE_BMI_NOM_underweightmature\n",
      "18  0.000      NEW_AGE_GLUCOSE_NOM_lowsenior\n",
      "25  0.000               NEW_GLUCOSE_Diabetes\n",
      "\n",
      "[26 rows x 2 columns]\n"
     ]
    },
    {
     "data": {
      "image/png": "[encoded data removed]",
      "text/plain": [
       "<Figure size 720x720 with 1 Axes>"
      ]
     },
     "metadata": {},
     "output_type": "display_data"
    }
   ],
   "source": [
    "def plot_importance(model, features, num=len(X), save=False):\n",
    "    feature_imp = pd.DataFrame({'Value': model.feature_importances_, 'Feature': features.columns})\n",
    "    print(feature_imp.sort_values(\"Value\", ascending=False))\n",
    "    plt.figure(figsize=(10, 10))\n",
    "    sns.set(font_scale=1)\n",
    "    sns.barplot(x=\"Value\", y=\"Feature\", data=feature_imp.sort_values(by=\"Value\",\n",
    "                                                                     ascending=False)[0:num])\n",
    "    plt.title('Features')\n",
    "    plt.tight_layout()\n",
    "    plt.show()\n",
    "    if save:\n",
    "        plt.savefig('importances.png')\n",
    "\n",
    "plot_importance(rf_model, X)"
   ]
  }
 ],
 "metadata": {
  "kernelspec": {
   "display_name": "Python 3 (ipykernel)",
   "language": "python",
   "name": "python3"
  },
  "language_info": {
   "codemirror_mode": {
    "name": "ipython",
    "version": 3
   },
   "file_extension": ".py",
   "mimetype": "text/x-python",
   "name": "python",
   "nbconvert_exporter": "python",
   "pygments_lexer": "ipython3",
   "version": "3.9.12"
  }
 },
 "nbformat": 4,
 "nbformat_minor": 5
}
